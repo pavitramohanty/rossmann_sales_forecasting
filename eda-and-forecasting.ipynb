{
 "cells": [
  {
   "cell_type": "code",
   "execution_count": 3,
   "metadata": {
    "_uuid": "8988aa2f80766a1139663963fcbe879a7edc095d"
   },
   "outputs": [],
   "source": [
    "import warnings\n",
    "warnings.filterwarnings(\"ignore\")\n",
    "#Data Manipulation and Treatment\n",
    "import numpy as np\n",
    "import pandas as pd\n",
    "from datetime import datetime\n",
    "#Plotting and Visualizations\n",
    "import matplotlib.pyplot as plt\n",
    "ccimport seaborn as sns\n",
    "from scipy import stats\n",
    "import itertools\n",
    "#Scikit-Learn for Modeling\n",
    "from sklearn import model_selection\n",
    "from sklearn.ensemble import RandomForestRegressor\n",
    "from sklearn import metrics"
   ]
  },
  {
   "cell_type": "code",
   "execution_count": 4,
   "metadata": {
    "_uuid": "14ce3406bcdc3ce041fc0c4af9921313a8aed14d"
   },
   "outputs": [],
   "source": [
    "def str_to_date(date):\n",
    "    return datetime.strptime(date, '%Y-%m-%d').date()"
   ]
  },
  {
   "cell_type": "code",
   "execution_count": 5,
   "metadata": {
    "_uuid": "b9153ff6044f4b498a3a7d1f7eade84afb5a59bc"
   },
   "outputs": [],
   "source": [
    "#The training Set\n",
    "df_train = pd.read_csv(\"train.csv\",sep=',', parse_dates=['Date'],\n",
    "                       low_memory = False)\n",
    "\n",
    "\n",
    "#Additional Information on those stores \n",
    "df_store = pd.read_csv(\"store.csv\"\n",
    "                       , low_memory = False)"
   ]
  },
  {
   "cell_type": "code",
   "execution_count": 5,
   "metadata": {
    "_uuid": "b64527be2715686ee6f33921b29057e229d8de9f"
   },
   "outputs": [
    {
     "data": {
      "text/html": [
       "<div>\n",
       "<style scoped>\n",
       "    .dataframe tbody tr th:only-of-type {\n",
       "        vertical-align: middle;\n",
       "    }\n",
       "\n",
       "    .dataframe tbody tr th {\n",
       "        vertical-align: top;\n",
       "    }\n",
       "\n",
       "    .dataframe thead th {\n",
       "        text-align: right;\n",
       "    }\n",
       "</style>\n",
       "<table border=\"1\" class=\"dataframe\">\n",
       "  <thead>\n",
       "    <tr style=\"text-align: right;\">\n",
       "      <th></th>\n",
       "      <th>Store</th>\n",
       "      <th>DayOfWeek</th>\n",
       "      <th>Date</th>\n",
       "      <th>Sales</th>\n",
       "      <th>Customers</th>\n",
       "      <th>Open</th>\n",
       "      <th>Promo</th>\n",
       "      <th>StateHoliday</th>\n",
       "      <th>SchoolHoliday</th>\n",
       "    </tr>\n",
       "  </thead>\n",
       "  <tbody>\n",
       "    <tr>\n",
       "      <th>0</th>\n",
       "      <td>1</td>\n",
       "      <td>5</td>\n",
       "      <td>2018-07-31</td>\n",
       "      <td>5263</td>\n",
       "      <td>555</td>\n",
       "      <td>1</td>\n",
       "      <td>1</td>\n",
       "      <td>0</td>\n",
       "      <td>1</td>\n",
       "    </tr>\n",
       "    <tr>\n",
       "      <th>1</th>\n",
       "      <td>2</td>\n",
       "      <td>5</td>\n",
       "      <td>2018-07-31</td>\n",
       "      <td>6064</td>\n",
       "      <td>625</td>\n",
       "      <td>1</td>\n",
       "      <td>1</td>\n",
       "      <td>0</td>\n",
       "      <td>1</td>\n",
       "    </tr>\n",
       "    <tr>\n",
       "      <th>2</th>\n",
       "      <td>3</td>\n",
       "      <td>5</td>\n",
       "      <td>2018-07-31</td>\n",
       "      <td>8314</td>\n",
       "      <td>821</td>\n",
       "      <td>1</td>\n",
       "      <td>1</td>\n",
       "      <td>0</td>\n",
       "      <td>1</td>\n",
       "    </tr>\n",
       "    <tr>\n",
       "      <th>3</th>\n",
       "      <td>4</td>\n",
       "      <td>5</td>\n",
       "      <td>2018-07-31</td>\n",
       "      <td>13995</td>\n",
       "      <td>1498</td>\n",
       "      <td>1</td>\n",
       "      <td>1</td>\n",
       "      <td>0</td>\n",
       "      <td>1</td>\n",
       "    </tr>\n",
       "    <tr>\n",
       "      <th>4</th>\n",
       "      <td>5</td>\n",
       "      <td>5</td>\n",
       "      <td>2018-07-31</td>\n",
       "      <td>4822</td>\n",
       "      <td>559</td>\n",
       "      <td>1</td>\n",
       "      <td>1</td>\n",
       "      <td>0</td>\n",
       "      <td>1</td>\n",
       "    </tr>\n",
       "  </tbody>\n",
       "</table>\n",
       "</div>"
      ],
      "text/plain": [
       "   Store  DayOfWeek       Date  Sales  Customers  Open  Promo StateHoliday  \\\n",
       "0      1          5 2018-07-31   5263        555     1      1            0   \n",
       "1      2          5 2018-07-31   6064        625     1      1            0   \n",
       "2      3          5 2018-07-31   8314        821     1      1            0   \n",
       "3      4          5 2018-07-31  13995       1498     1      1            0   \n",
       "4      5          5 2018-07-31   4822        559     1      1            0   \n",
       "\n",
       "   SchoolHoliday  \n",
       "0              1  \n",
       "1              1  \n",
       "2              1  \n",
       "3              1  \n",
       "4              1  "
      ]
     },
     "execution_count": 5,
     "metadata": {},
     "output_type": "execute_result"
    }
   ],
   "source": [
    "df_train.head() "
   ]
  },
  {
   "cell_type": "code",
   "execution_count": 6,
   "metadata": {
    "_uuid": "a53247c57d9c6f1ff773011d99f59b0f7a47b844"
   },
   "outputs": [
    {
     "data": {
      "text/html": [
       "<div>\n",
       "<style scoped>\n",
       "    .dataframe tbody tr th:only-of-type {\n",
       "        vertical-align: middle;\n",
       "    }\n",
       "\n",
       "    .dataframe tbody tr th {\n",
       "        vertical-align: top;\n",
       "    }\n",
       "\n",
       "    .dataframe thead th {\n",
       "        text-align: right;\n",
       "    }\n",
       "</style>\n",
       "<table border=\"1\" class=\"dataframe\">\n",
       "  <thead>\n",
       "    <tr style=\"text-align: right;\">\n",
       "      <th></th>\n",
       "      <th>Store</th>\n",
       "      <th>DayOfWeek</th>\n",
       "      <th>Date</th>\n",
       "      <th>Sales</th>\n",
       "      <th>Customers</th>\n",
       "      <th>Open</th>\n",
       "      <th>Promo</th>\n",
       "      <th>StateHoliday</th>\n",
       "      <th>SchoolHoliday</th>\n",
       "    </tr>\n",
       "  </thead>\n",
       "  <tbody>\n",
       "    <tr>\n",
       "      <th>1017204</th>\n",
       "      <td>1111</td>\n",
       "      <td>2</td>\n",
       "      <td>2016-01-01</td>\n",
       "      <td>0</td>\n",
       "      <td>0</td>\n",
       "      <td>0</td>\n",
       "      <td>0</td>\n",
       "      <td>a</td>\n",
       "      <td>1</td>\n",
       "    </tr>\n",
       "    <tr>\n",
       "      <th>1017205</th>\n",
       "      <td>1112</td>\n",
       "      <td>2</td>\n",
       "      <td>2016-01-01</td>\n",
       "      <td>0</td>\n",
       "      <td>0</td>\n",
       "      <td>0</td>\n",
       "      <td>0</td>\n",
       "      <td>a</td>\n",
       "      <td>1</td>\n",
       "    </tr>\n",
       "    <tr>\n",
       "      <th>1017206</th>\n",
       "      <td>1113</td>\n",
       "      <td>2</td>\n",
       "      <td>2016-01-01</td>\n",
       "      <td>0</td>\n",
       "      <td>0</td>\n",
       "      <td>0</td>\n",
       "      <td>0</td>\n",
       "      <td>a</td>\n",
       "      <td>1</td>\n",
       "    </tr>\n",
       "    <tr>\n",
       "      <th>1017207</th>\n",
       "      <td>1114</td>\n",
       "      <td>2</td>\n",
       "      <td>2016-01-01</td>\n",
       "      <td>0</td>\n",
       "      <td>0</td>\n",
       "      <td>0</td>\n",
       "      <td>0</td>\n",
       "      <td>a</td>\n",
       "      <td>1</td>\n",
       "    </tr>\n",
       "    <tr>\n",
       "      <th>1017208</th>\n",
       "      <td>1115</td>\n",
       "      <td>2</td>\n",
       "      <td>2016-01-01</td>\n",
       "      <td>0</td>\n",
       "      <td>0</td>\n",
       "      <td>0</td>\n",
       "      <td>0</td>\n",
       "      <td>a</td>\n",
       "      <td>1</td>\n",
       "    </tr>\n",
       "  </tbody>\n",
       "</table>\n",
       "</div>"
      ],
      "text/plain": [
       "         Store  DayOfWeek       Date  Sales  Customers  Open  Promo  \\\n",
       "1017204   1111          2 2016-01-01      0          0     0      0   \n",
       "1017205   1112          2 2016-01-01      0          0     0      0   \n",
       "1017206   1113          2 2016-01-01      0          0     0      0   \n",
       "1017207   1114          2 2016-01-01      0          0     0      0   \n",
       "1017208   1115          2 2016-01-01      0          0     0      0   \n",
       "\n",
       "        StateHoliday  SchoolHoliday  \n",
       "1017204            a              1  \n",
       "1017205            a              1  \n",
       "1017206            a              1  \n",
       "1017207            a              1  \n",
       "1017208            a              1  "
      ]
     },
     "execution_count": 6,
     "metadata": {},
     "output_type": "execute_result"
    }
   ],
   "source": [
    "df_train.tail()"
   ]
  },
  {
   "cell_type": "code",
   "execution_count": 7,
   "metadata": {
    "_uuid": "73a7212baa88c18ff910b69b123bec4b43d18c27"
   },
   "outputs": [
    {
     "name": "stdout",
     "output_type": "stream",
     "text": [
      "The Train dataset has 1017209 Rows and 9 Variables\n"
     ]
    },
    {
     "data": {
      "text/plain": [
       "(Store                     int64\n",
       " DayOfWeek                 int64\n",
       " Date             datetime64[ns]\n",
       " Sales                     int64\n",
       " Customers                 int64\n",
       " Open                      int64\n",
       " Promo                     int64\n",
       " StateHoliday             object\n",
       " SchoolHoliday             int64\n",
       " dtype: object, None)"
      ]
     },
     "execution_count": 7,
     "metadata": {},
     "output_type": "execute_result"
    }
   ],
   "source": [
    "df_train.dtypes,print (\"The Train dataset has {} Rows and {} Variables\".format(str(df_train.shape[0]),str(df_train.shape[1])))"
   ]
  },
  {
   "cell_type": "code",
   "execution_count": 8,
   "metadata": {
    "_uuid": "a9c344574cacdc1f2643f6261cdfc4c98a781b79"
   },
   "outputs": [
    {
     "data": {
      "text/html": [
       "<div>\n",
       "<style scoped>\n",
       "    .dataframe tbody tr th:only-of-type {\n",
       "        vertical-align: middle;\n",
       "    }\n",
       "\n",
       "    .dataframe tbody tr th {\n",
       "        vertical-align: top;\n",
       "    }\n",
       "\n",
       "    .dataframe thead th {\n",
       "        text-align: right;\n",
       "    }\n",
       "</style>\n",
       "<table border=\"1\" class=\"dataframe\">\n",
       "  <thead>\n",
       "    <tr style=\"text-align: right;\">\n",
       "      <th></th>\n",
       "      <th>Store</th>\n",
       "      <th>StoreType</th>\n",
       "      <th>Assortment</th>\n",
       "      <th>CompetitionDistance</th>\n",
       "      <th>CompetitionOpenSinceMonth</th>\n",
       "      <th>CompetitionOpenSinceYear</th>\n",
       "      <th>Promo2</th>\n",
       "      <th>Promo2SinceWeek</th>\n",
       "      <th>Promo2SinceYear</th>\n",
       "      <th>PromoInterval</th>\n",
       "    </tr>\n",
       "  </thead>\n",
       "  <tbody>\n",
       "    <tr>\n",
       "      <th>0</th>\n",
       "      <td>1</td>\n",
       "      <td>c</td>\n",
       "      <td>a</td>\n",
       "      <td>1270.0</td>\n",
       "      <td>9.0</td>\n",
       "      <td>2008.0</td>\n",
       "      <td>0</td>\n",
       "      <td>NaN</td>\n",
       "      <td>NaN</td>\n",
       "      <td>NaN</td>\n",
       "    </tr>\n",
       "    <tr>\n",
       "      <th>1</th>\n",
       "      <td>2</td>\n",
       "      <td>a</td>\n",
       "      <td>a</td>\n",
       "      <td>570.0</td>\n",
       "      <td>11.0</td>\n",
       "      <td>2007.0</td>\n",
       "      <td>1</td>\n",
       "      <td>13.0</td>\n",
       "      <td>2010.0</td>\n",
       "      <td>Jan,Apr,Jul,Oct</td>\n",
       "    </tr>\n",
       "    <tr>\n",
       "      <th>2</th>\n",
       "      <td>3</td>\n",
       "      <td>a</td>\n",
       "      <td>a</td>\n",
       "      <td>14130.0</td>\n",
       "      <td>12.0</td>\n",
       "      <td>2006.0</td>\n",
       "      <td>1</td>\n",
       "      <td>14.0</td>\n",
       "      <td>2011.0</td>\n",
       "      <td>Jan,Apr,Jul,Oct</td>\n",
       "    </tr>\n",
       "    <tr>\n",
       "      <th>3</th>\n",
       "      <td>4</td>\n",
       "      <td>c</td>\n",
       "      <td>c</td>\n",
       "      <td>620.0</td>\n",
       "      <td>9.0</td>\n",
       "      <td>2009.0</td>\n",
       "      <td>0</td>\n",
       "      <td>NaN</td>\n",
       "      <td>NaN</td>\n",
       "      <td>NaN</td>\n",
       "    </tr>\n",
       "    <tr>\n",
       "      <th>4</th>\n",
       "      <td>5</td>\n",
       "      <td>a</td>\n",
       "      <td>a</td>\n",
       "      <td>29910.0</td>\n",
       "      <td>4.0</td>\n",
       "      <td>2015.0</td>\n",
       "      <td>0</td>\n",
       "      <td>NaN</td>\n",
       "      <td>NaN</td>\n",
       "      <td>NaN</td>\n",
       "    </tr>\n",
       "  </tbody>\n",
       "</table>\n",
       "</div>"
      ],
      "text/plain": [
       "   Store StoreType Assortment  CompetitionDistance  CompetitionOpenSinceMonth  \\\n",
       "0      1         c          a               1270.0                        9.0   \n",
       "1      2         a          a                570.0                       11.0   \n",
       "2      3         a          a              14130.0                       12.0   \n",
       "3      4         c          c                620.0                        9.0   \n",
       "4      5         a          a              29910.0                        4.0   \n",
       "\n",
       "   CompetitionOpenSinceYear  Promo2  Promo2SinceWeek  Promo2SinceYear  \\\n",
       "0                    2008.0       0              NaN              NaN   \n",
       "1                    2007.0       1             13.0           2010.0   \n",
       "2                    2006.0       1             14.0           2011.0   \n",
       "3                    2009.0       0              NaN              NaN   \n",
       "4                    2015.0       0              NaN              NaN   \n",
       "\n",
       "     PromoInterval  \n",
       "0              NaN  \n",
       "1  Jan,Apr,Jul,Oct  \n",
       "2  Jan,Apr,Jul,Oct  \n",
       "3              NaN  \n",
       "4              NaN  "
      ]
     },
     "execution_count": 8,
     "metadata": {},
     "output_type": "execute_result"
    }
   ],
   "source": [
    "df_store.head()"
   ]
  },
  {
   "cell_type": "code",
   "execution_count": 9,
   "metadata": {
    "_uuid": "873c481b50c5ce329a3eb130a2901d20ae17acd5"
   },
   "outputs": [
    {
     "data": {
      "text/html": [
       "<div>\n",
       "<style scoped>\n",
       "    .dataframe tbody tr th:only-of-type {\n",
       "        vertical-align: middle;\n",
       "    }\n",
       "\n",
       "    .dataframe tbody tr th {\n",
       "        vertical-align: top;\n",
       "    }\n",
       "\n",
       "    .dataframe thead th {\n",
       "        text-align: right;\n",
       "    }\n",
       "</style>\n",
       "<table border=\"1\" class=\"dataframe\">\n",
       "  <thead>\n",
       "    <tr style=\"text-align: right;\">\n",
       "      <th></th>\n",
       "      <th>Store</th>\n",
       "      <th>StoreType</th>\n",
       "      <th>Assortment</th>\n",
       "      <th>CompetitionDistance</th>\n",
       "      <th>CompetitionOpenSinceMonth</th>\n",
       "      <th>CompetitionOpenSinceYear</th>\n",
       "      <th>Promo2</th>\n",
       "      <th>Promo2SinceWeek</th>\n",
       "      <th>Promo2SinceYear</th>\n",
       "      <th>PromoInterval</th>\n",
       "    </tr>\n",
       "  </thead>\n",
       "  <tbody>\n",
       "    <tr>\n",
       "      <th>1110</th>\n",
       "      <td>1111</td>\n",
       "      <td>a</td>\n",
       "      <td>a</td>\n",
       "      <td>1900.0</td>\n",
       "      <td>6.0</td>\n",
       "      <td>2014.0</td>\n",
       "      <td>1</td>\n",
       "      <td>31.0</td>\n",
       "      <td>2013.0</td>\n",
       "      <td>Jan,Apr,Jul,Oct</td>\n",
       "    </tr>\n",
       "    <tr>\n",
       "      <th>1111</th>\n",
       "      <td>1112</td>\n",
       "      <td>c</td>\n",
       "      <td>c</td>\n",
       "      <td>1880.0</td>\n",
       "      <td>4.0</td>\n",
       "      <td>2006.0</td>\n",
       "      <td>0</td>\n",
       "      <td>NaN</td>\n",
       "      <td>NaN</td>\n",
       "      <td>NaN</td>\n",
       "    </tr>\n",
       "    <tr>\n",
       "      <th>1112</th>\n",
       "      <td>1113</td>\n",
       "      <td>a</td>\n",
       "      <td>c</td>\n",
       "      <td>9260.0</td>\n",
       "      <td>NaN</td>\n",
       "      <td>NaN</td>\n",
       "      <td>0</td>\n",
       "      <td>NaN</td>\n",
       "      <td>NaN</td>\n",
       "      <td>NaN</td>\n",
       "    </tr>\n",
       "    <tr>\n",
       "      <th>1113</th>\n",
       "      <td>1114</td>\n",
       "      <td>a</td>\n",
       "      <td>c</td>\n",
       "      <td>870.0</td>\n",
       "      <td>NaN</td>\n",
       "      <td>NaN</td>\n",
       "      <td>0</td>\n",
       "      <td>NaN</td>\n",
       "      <td>NaN</td>\n",
       "      <td>NaN</td>\n",
       "    </tr>\n",
       "    <tr>\n",
       "      <th>1114</th>\n",
       "      <td>1115</td>\n",
       "      <td>d</td>\n",
       "      <td>c</td>\n",
       "      <td>5350.0</td>\n",
       "      <td>NaN</td>\n",
       "      <td>NaN</td>\n",
       "      <td>1</td>\n",
       "      <td>22.0</td>\n",
       "      <td>2012.0</td>\n",
       "      <td>Mar,Jun,Sept,Dec</td>\n",
       "    </tr>\n",
       "  </tbody>\n",
       "</table>\n",
       "</div>"
      ],
      "text/plain": [
       "      Store StoreType Assortment  CompetitionDistance  \\\n",
       "1110   1111         a          a               1900.0   \n",
       "1111   1112         c          c               1880.0   \n",
       "1112   1113         a          c               9260.0   \n",
       "1113   1114         a          c                870.0   \n",
       "1114   1115         d          c               5350.0   \n",
       "\n",
       "      CompetitionOpenSinceMonth  CompetitionOpenSinceYear  Promo2  \\\n",
       "1110                        6.0                    2014.0       1   \n",
       "1111                        4.0                    2006.0       0   \n",
       "1112                        NaN                       NaN       0   \n",
       "1113                        NaN                       NaN       0   \n",
       "1114                        NaN                       NaN       1   \n",
       "\n",
       "      Promo2SinceWeek  Promo2SinceYear     PromoInterval  \n",
       "1110             31.0           2013.0   Jan,Apr,Jul,Oct  \n",
       "1111              NaN              NaN               NaN  \n",
       "1112              NaN              NaN               NaN  \n",
       "1113              NaN              NaN               NaN  \n",
       "1114             22.0           2012.0  Mar,Jun,Sept,Dec  "
      ]
     },
     "execution_count": 9,
     "metadata": {},
     "output_type": "execute_result"
    }
   ],
   "source": [
    "df_store.tail()"
   ]
  },
  {
   "cell_type": "code",
   "execution_count": 10,
   "metadata": {
    "_uuid": "b740890be1de9c11a46fcda99110b3ad6a5abde2"
   },
   "outputs": [
    {
     "name": "stdout",
     "output_type": "stream",
     "text": [
      "The Store dataset has 1115 Rows (which means unique Shops) and 10 Variables\n"
     ]
    },
    {
     "data": {
      "text/plain": [
       "(Store                          int64\n",
       " StoreType                     object\n",
       " Assortment                    object\n",
       " CompetitionDistance          float64\n",
       " CompetitionOpenSinceMonth    float64\n",
       " CompetitionOpenSinceYear     float64\n",
       " Promo2                         int64\n",
       " Promo2SinceWeek              float64\n",
       " Promo2SinceYear              float64\n",
       " PromoInterval                 object\n",
       " dtype: object, None)"
      ]
     },
     "execution_count": 10,
     "metadata": {},
     "output_type": "execute_result"
    }
   ],
   "source": [
    "df_store.dtypes ,print (\"The Store dataset has {} Rows (which means unique Shops) and {} Variables\".format(str(df_store.shape[0]),str(df_store.shape[1]))) "
   ]
  },
  {
   "cell_type": "markdown",
   "metadata": {
    "_uuid": "bc8770f5f24491e8c5c5fc9d3ea38494e4feea60"
   },
   "source": [
    "<h2>Data Wrangling and Exploration:</h2>"
   ]
  },
  {
   "cell_type": "markdown",
   "metadata": {
    "_uuid": "c90d30dc8437bbfd7db04a8bff59471e8b3f636d"
   },
   "source": [
    "How many missing fields each variable has:"
   ]
  },
  {
   "cell_type": "code",
   "execution_count": 11,
   "metadata": {
    "_uuid": "d89d35b520e9ba3dcf9a19f26586f209a5cc97c0"
   },
   "outputs": [
    {
     "data": {
      "text/plain": [
       "Store            100.0\n",
       "DayOfWeek        100.0\n",
       "Date             100.0\n",
       "Sales            100.0\n",
       "Customers        100.0\n",
       "Open             100.0\n",
       "Promo            100.0\n",
       "StateHoliday     100.0\n",
       "SchoolHoliday    100.0\n",
       "dtype: float64"
      ]
     },
     "execution_count": 11,
     "metadata": {},
     "output_type": "execute_result"
    }
   ],
   "source": [
    "df_train.count(0)/df_train.shape[0] * 100"
   ]
  },
  {
   "cell_type": "code",
   "execution_count": 7,
   "metadata": {
    "_uuid": "1b6fdeddaa0024e1bf94eb5a2f773e739a6a4da2"
   },
   "outputs": [],
   "source": [
    "df_train=df_train.drop(df_train[(df_train.Open == 0) & (df_train.Sales == 0)].index)"
   ]
  },
  {
   "cell_type": "code",
   "execution_count": 8,
   "metadata": {
    "_uuid": "19d4496592a67cce99156f8b610d463855d78032"
   },
   "outputs": [],
   "source": [
    "df_train = df_train.reset_index(drop=True) #making sure the indexes are back to [0,1,2,3 etc.] "
   ]
  },
  {
   "cell_type": "code",
   "execution_count": 9,
   "metadata": {
    "_uuid": "d5fc8b2775e1c696a066bb5b4d41035d20e838d0"
   },
   "outputs": [
    {
     "name": "stdout",
     "output_type": "stream",
     "text": [
      "Our new training set has now 844392 rows \n"
     ]
    }
   ],
   "source": [
    "print (\"Our new training set has now {} rows \".format(df_train.shape[0]))"
   ]
  },
  {
   "cell_type": "markdown",
   "metadata": {
    "_uuid": "5e8792f389bc871e5da8954620cd1036141b92bc"
   },
   "source": [
    "**1) Sales:**"
   ]
  },
  {
   "cell_type": "code",
   "execution_count": 10,
   "metadata": {
    "_uuid": "fb18856ad9c17ea5c52c706688c1c8d7c8e91724"
   },
   "outputs": [
    {
     "data": {
      "text/plain": [
       "count    844392.000000\n",
       "mean       6955.516113\n",
       "std        3104.221189\n",
       "min           0.000000\n",
       "25%        4859.000000\n",
       "50%        6369.000000\n",
       "75%        8360.000000\n",
       "max       41551.000000\n",
       "Name: Sales, dtype: float64"
      ]
     },
     "execution_count": 10,
     "metadata": {},
     "output_type": "execute_result"
    }
   ],
   "source": [
    "df_train.Sales.describe() \n",
    "#we see here a minimum of 0 which means some stores even opened got 0 sales on some days."
   ]
  },
  {
   "cell_type": "code",
   "execution_count": 11,
   "metadata": {
    "_uuid": "896148bee43e41c9733f2e93d303c04ac37f915c"
   },
   "outputs": [],
   "source": [
    "df_train=df_train.drop(df_train[(df_train.Open == 1) & (df_train.Sales == 0)].index)\n",
    "df_train = df_train.reset_index(drop=True) "
   ]
  },
  {
   "cell_type": "code",
   "execution_count": 13,
   "metadata": {
    "_uuid": "5472279b9e625630e203a5b7b385966ee0f1dde6"
   },
   "outputs": [
    {
     "name": "stdout",
     "output_type": "stream",
     "text": [
      "3.21% of the time Rossman are actually having big sales day (considered outliers).\n",
      "0.00% of the time Rossman are actually having no sales at all.\n"
     ]
    }
   ],
   "source": [
    "print (\"{0:.2f}% of the time Rossman are actually having big sales day (considered outliers).\".format(df_train[df_train.Sales>14000].count()[0]/df_train.shape[0]*100))\n",
    "print (\"{0:.2f}% of the time Rossman are actually having no sales at all.\".format(df_train[df_train.Sales==0].count()[0]/df_train.shape[0]*100))"
   ]
  },
  {
   "cell_type": "code",
   "execution_count": 14,
   "metadata": {
    "_uuid": "97bd4439e58ef37f4a1f55d71c7de29635662b20"
   },
   "outputs": [
    {
     "data": {
      "text/plain": [
       "count    844338.000000\n",
       "mean        762.777429\n",
       "std         401.194973\n",
       "min           8.000000\n",
       "25%         519.000000\n",
       "50%         676.000000\n",
       "75%         893.000000\n",
       "max        7388.000000\n",
       "Name: Customers, dtype: float64"
      ]
     },
     "execution_count": 14,
     "metadata": {},
     "output_type": "execute_result"
    }
   ],
   "source": [
    "df_train.Customers.describe()    "
   ]
  },
  {
   "cell_type": "code",
   "execution_count": 16,
   "metadata": {
    "_uuid": "72362e9ea155442335516f7cf9a6dc38b4fc3d24"
   },
   "outputs": [
    {
     "name": "stdout",
     "output_type": "stream",
     "text": [
      "4.37% of the time Rossman are actually having customers more than usual (considered outliers).\n",
      "0.00% of the time Rossman are actually having no customers at all.\n"
     ]
    }
   ],
   "source": [
    "print (\"{0:.2f}% of the time Rossman are actually having customers more than usual (considered outliers).\".format(df_train[df_train.Customers>1500].count()[0]/df_train.shape[0]*100))\n",
    "print (\"{0:.2f}% of the time Rossman are actually having no customers at all.\".format(df_train[df_train.Customers==0].count()[0]/df_train.shape[0]*100))"
   ]
  },
  {
   "cell_type": "code",
   "execution_count": 17,
   "metadata": {
    "_uuid": "e0b6d9517e55146f23e488e40822488b0f403153"
   },
   "outputs": [
    {
     "data": {
      "text/html": [
       "<div>\n",
       "<style scoped>\n",
       "    .dataframe tbody tr th:only-of-type {\n",
       "        vertical-align: middle;\n",
       "    }\n",
       "\n",
       "    .dataframe tbody tr th {\n",
       "        vertical-align: top;\n",
       "    }\n",
       "\n",
       "    .dataframe thead th {\n",
       "        text-align: right;\n",
       "    }\n",
       "</style>\n",
       "<table border=\"1\" class=\"dataframe\">\n",
       "  <thead>\n",
       "    <tr style=\"text-align: right;\">\n",
       "      <th></th>\n",
       "      <th>Store</th>\n",
       "      <th>DayOfWeek</th>\n",
       "      <th>Date</th>\n",
       "      <th>Sales</th>\n",
       "      <th>Customers</th>\n",
       "      <th>Open</th>\n",
       "      <th>Promo</th>\n",
       "      <th>StateHoliday</th>\n",
       "      <th>SchoolHoliday</th>\n",
       "    </tr>\n",
       "  </thead>\n",
       "  <tbody>\n",
       "    <tr>\n",
       "      <th>825160</th>\n",
       "      <td>817</td>\n",
       "      <td>2</td>\n",
       "      <td>2016-01-22</td>\n",
       "      <td>27190</td>\n",
       "      <td>7388</td>\n",
       "      <td>1</td>\n",
       "      <td>1</td>\n",
       "      <td>0</td>\n",
       "      <td>0</td>\n",
       "    </tr>\n",
       "  </tbody>\n",
       "</table>\n",
       "</div>"
      ],
      "text/plain": [
       "        Store  DayOfWeek       Date  Sales  Customers  Open  Promo  \\\n",
       "825160    817          2 2016-01-22  27190       7388     1      1   \n",
       "\n",
       "       StateHoliday  SchoolHoliday  \n",
       "825160            0              0  "
      ]
     },
     "execution_count": 17,
     "metadata": {},
     "output_type": "execute_result"
    }
   ],
   "source": [
    "df_train[df_train.Customers>7000]"
   ]
  },
  {
   "cell_type": "code",
   "execution_count": 18,
   "metadata": {
    "_uuid": "a88cf8c759b0e3f2ef78eb42f277a3ca4ffa1a49"
   },
   "outputs": [
    {
     "data": {
      "text/plain": [
       "0.8235520263213598"
      ]
     },
     "execution_count": 18,
     "metadata": {},
     "output_type": "execute_result"
    }
   ],
   "source": [
    "stats.pearsonr(df_train.Customers, df_train.Sales)[0]"
   ]
  },
  {
   "cell_type": "markdown",
   "metadata": {
    "_uuid": "9e3830a500eca1ead53a4a083ca46297208425a7"
   },
   "source": [
    "<h3>A closer look at the Store Dataset:</h3>"
   ]
  },
  {
   "cell_type": "code",
   "execution_count": 19,
   "metadata": {
    "_uuid": "7423ea358e268cd991ad35588457be1bc4bab4f0"
   },
   "outputs": [
    {
     "data": {
      "text/plain": [
       "Store                        100.000000\n",
       "StoreType                    100.000000\n",
       "Assortment                   100.000000\n",
       "CompetitionDistance           99.730942\n",
       "CompetitionOpenSinceMonth     68.251121\n",
       "CompetitionOpenSinceYear      68.251121\n",
       "Promo2                       100.000000\n",
       "Promo2SinceWeek               51.210762\n",
       "Promo2SinceYear               51.210762\n",
       "PromoInterval                 51.210762\n",
       "dtype: float64"
      ]
     },
     "execution_count": 19,
     "metadata": {},
     "output_type": "execute_result"
    }
   ],
   "source": [
    "df_store.count(0)/df_store.shape[0] * 100"
   ]
  },
  {
   "cell_type": "markdown",
   "metadata": {
    "_uuid": "cf4d2785531e709552c9b925702842f186f457bf"
   },
   "source": [
    "**Findings:**\n",
    "\n",
    "- The `Promo2SinceWeek`,`Promo2SinceYear` and `PromoInterval` variables has 51% fill rate since they are actually NULL values because there are no continuous promotion for those stores. \n",
    "\n",
    "- Instead for `CompetitionOpenSinceMonth` and `CompetitionOpenSinceYear`, it's basically missing data that we're dealing with here (68.25% fill rate), this means that we have the nearest distance of the competitor but miss the date information on when did he actually opened next to the Rossman store."
   ]
  },
  {
   "cell_type": "markdown",
   "metadata": {
    "_uuid": "7a71fe3a610c7a1cc70a62a49985f9a04cb1a3db"
   },
   "source": [
    "**Let's start the cleansing process by order:**"
   ]
  },
  {
   "cell_type": "markdown",
   "metadata": {
    "_uuid": "4c638c3743763aadc0e26a6bce00c9456813e7ca"
   },
   "source": [
    "1) `CompetitionDistance`:"
   ]
  },
  {
   "cell_type": "code",
   "execution_count": 20,
   "metadata": {
    "_uuid": "41884e53cc271f4820e1041fb6f7b036e0a44a5d"
   },
   "outputs": [
    {
     "data": {
      "text/html": [
       "<div>\n",
       "<style scoped>\n",
       "    .dataframe tbody tr th:only-of-type {\n",
       "        vertical-align: middle;\n",
       "    }\n",
       "\n",
       "    .dataframe tbody tr th {\n",
       "        vertical-align: top;\n",
       "    }\n",
       "\n",
       "    .dataframe thead th {\n",
       "        text-align: right;\n",
       "    }\n",
       "</style>\n",
       "<table border=\"1\" class=\"dataframe\">\n",
       "  <thead>\n",
       "    <tr style=\"text-align: right;\">\n",
       "      <th></th>\n",
       "      <th>Store</th>\n",
       "      <th>StoreType</th>\n",
       "      <th>Assortment</th>\n",
       "      <th>CompetitionDistance</th>\n",
       "      <th>CompetitionOpenSinceMonth</th>\n",
       "      <th>CompetitionOpenSinceYear</th>\n",
       "      <th>Promo2</th>\n",
       "      <th>Promo2SinceWeek</th>\n",
       "      <th>Promo2SinceYear</th>\n",
       "      <th>PromoInterval</th>\n",
       "    </tr>\n",
       "  </thead>\n",
       "  <tbody>\n",
       "    <tr>\n",
       "      <th>290</th>\n",
       "      <td>291</td>\n",
       "      <td>d</td>\n",
       "      <td>a</td>\n",
       "      <td>NaN</td>\n",
       "      <td>NaN</td>\n",
       "      <td>NaN</td>\n",
       "      <td>0</td>\n",
       "      <td>NaN</td>\n",
       "      <td>NaN</td>\n",
       "      <td>NaN</td>\n",
       "    </tr>\n",
       "    <tr>\n",
       "      <th>621</th>\n",
       "      <td>622</td>\n",
       "      <td>a</td>\n",
       "      <td>c</td>\n",
       "      <td>NaN</td>\n",
       "      <td>NaN</td>\n",
       "      <td>NaN</td>\n",
       "      <td>0</td>\n",
       "      <td>NaN</td>\n",
       "      <td>NaN</td>\n",
       "      <td>NaN</td>\n",
       "    </tr>\n",
       "    <tr>\n",
       "      <th>878</th>\n",
       "      <td>879</td>\n",
       "      <td>d</td>\n",
       "      <td>a</td>\n",
       "      <td>NaN</td>\n",
       "      <td>NaN</td>\n",
       "      <td>NaN</td>\n",
       "      <td>1</td>\n",
       "      <td>5.0</td>\n",
       "      <td>2013.0</td>\n",
       "      <td>Feb,May,Aug,Nov</td>\n",
       "    </tr>\n",
       "  </tbody>\n",
       "</table>\n",
       "</div>"
      ],
      "text/plain": [
       "     Store StoreType Assortment  CompetitionDistance  \\\n",
       "290    291         d          a                  NaN   \n",
       "621    622         a          c                  NaN   \n",
       "878    879         d          a                  NaN   \n",
       "\n",
       "     CompetitionOpenSinceMonth  CompetitionOpenSinceYear  Promo2  \\\n",
       "290                        NaN                       NaN       0   \n",
       "621                        NaN                       NaN       0   \n",
       "878                        NaN                       NaN       1   \n",
       "\n",
       "     Promo2SinceWeek  Promo2SinceYear    PromoInterval  \n",
       "290              NaN              NaN              NaN  \n",
       "621              NaN              NaN              NaN  \n",
       "878              5.0           2013.0  Feb,May,Aug,Nov  "
      ]
     },
     "execution_count": 20,
     "metadata": {},
     "output_type": "execute_result"
    }
   ],
   "source": [
    "df_store[pd.isnull(df_store.CompetitionDistance)] \n",
    "#rows with missing values for Competition Distance, only 3 rows with null which makes sense since 99.73% is filled"
   ]
  },
  {
   "cell_type": "code",
   "execution_count": 21,
   "metadata": {
    "_uuid": "a9026ef3bb396823d71a6210de0c4c8f685d7088"
   },
   "outputs": [
    {
     "data": {
      "text/plain": [
       "{'Mean': 5404.901079136691,\n",
       " 'Median': 2325.0,\n",
       " 'Standard Dev': 7659.7282732764415}"
      ]
     },
     "execution_count": 21,
     "metadata": {},
     "output_type": "execute_result"
    },
    {
     "data": {
      "image/png": "[encoded data removed]",
      "text/plain": [
       "<Figure size 1224x252 with 2 Axes>"
      ]
     },
     "metadata": {
      "needs_background": "light"
     },
     "output_type": "display_data"
    }
   ],
   "source": [
    "df_store_check_distribution=df_store.drop(df_store[pd.isnull(df_store.CompetitionDistance)].index)\n",
    "fig, axes = plt.subplots(1, 2, figsize=(17,3.5))\n",
    "axes[0].boxplot(df_store_check_distribution.CompetitionDistance, showmeans=True,vert=False,)\n",
    "axes[0].set_xlim(0,max(df_store_check_distribution.CompetitionDistance+1000))\n",
    "axes[0].set_title('Boxplot For Closest Competition')\n",
    "axes[1].hist(df_store_check_distribution.CompetitionDistance, cumulative=False, bins=30)\n",
    "axes[1].set_title(\"Closest Competition histogram\")\n",
    "axes[1].set_xlim((min(df_store_check_distribution.CompetitionDistance), max(df_store_check_distribution.CompetitionDistance)))\n",
    "{\"Mean\":np.nanmean(df_store.CompetitionDistance),\"Median\":np.nanmedian(df_store.CompetitionDistance),\"Standard Dev\":np.nanstd(df_store.CompetitionDistance)}#That's what i thought, very different values, let's see why "
   ]
  },
  {
   "cell_type": "markdown",
   "metadata": {
    "_uuid": "10dd8b7e71ba838ea9de7ddff1ee04759f648fdc"
   },
   "source": [
    "We see a highly right skewed distribution for this variable with a significant difference between the mean and the median. This being caused by the amount of disperness in the data with a standard deviation of 7659, higher than the mean and the median."
   ]
  },
  {
   "cell_type": "code",
   "execution_count": 22,
   "metadata": {
    "_uuid": "23a1855ca66999f86527f48176640c212b4438d7"
   },
   "outputs": [],
   "source": [
    "df_store['CompetitionDistance'].fillna(df_store['CompetitionDistance'].median(), inplace = True)"
   ]
  },
  {
   "cell_type": "code",
   "execution_count": 23,
   "metadata": {
    "_uuid": "46515bb0e283e8a1ec35868846597c134df0002b"
   },
   "outputs": [],
   "source": [
    "df_store.CompetitionOpenSinceMonth.fillna(0, inplace = True)\n",
    "df_store.CompetitionOpenSinceYear.fillna(0,inplace=True)"
   ]
  },
  {
   "cell_type": "code",
   "execution_count": 25,
   "metadata": {
    "_uuid": "5db02179eece2358cf51c393415b58a559be5d1a"
   },
   "outputs": [],
   "source": [
    "df_store.Promo2SinceWeek.fillna(0,inplace=True)\n",
    "df_store.Promo2SinceYear.fillna(0,inplace=True)\n",
    "df_store.PromoInterval.fillna(0,inplace=True)"
   ]
  },
  {
   "cell_type": "code",
   "execution_count": 26,
   "metadata": {
    "_uuid": "19b16d009ad19164134faa0988654dcf1d34020d"
   },
   "outputs": [
    {
     "data": {
      "text/plain": [
       "Store                        100.0\n",
       "StoreType                    100.0\n",
       "Assortment                   100.0\n",
       "CompetitionDistance          100.0\n",
       "CompetitionOpenSinceMonth    100.0\n",
       "CompetitionOpenSinceYear     100.0\n",
       "Promo2                       100.0\n",
       "Promo2SinceWeek              100.0\n",
       "Promo2SinceYear              100.0\n",
       "PromoInterval                100.0\n",
       "dtype: float64"
      ]
     },
     "execution_count": 26,
     "metadata": {},
     "output_type": "execute_result"
    }
   ],
   "source": [
    "df_store.count(0)/df_store.shape[0] * 100"
   ]
  },
  {
   "cell_type": "code",
   "execution_count": 27,
   "metadata": {
    "_uuid": "d1590413e9409ecba1fb2bae63986a1b9ee2703c"
   },
   "outputs": [
    {
     "name": "stdout",
     "output_type": "stream",
     "text": [
      "The Train_Store dataset has 844338 Rows and 18 Variables\n"
     ]
    }
   ],
   "source": [
    "#Left-join the train to the store dataset since .Why?\n",
    "#Because you want to make sure you have all events even if some of them don't have their store information ( which shouldn't happen)\n",
    "df_train_store = pd.merge(df_train, df_store, how = 'left', on = 'Store')\n",
    "df_train_store.head() \n",
    "print (\"The Train_Store dataset has {} Rows and {} Variables\".format(str(df_train_store.shape[0]),str(df_train_store.shape[1]))) \n"
   ]
  },
  {
   "cell_type": "markdown",
   "metadata": {
    "_uuid": "dbaf9c75f1ca407ba8b9f37794ceac2fc101c7a9"
   },
   "source": [
    "<h3>Store Type Analysis:</h3>"
   ]
  },
  {
   "cell_type": "markdown",
   "metadata": {
    "_uuid": "86d0c176c56eee82dc81c767c8902920fcd4efa0"
   },
   "source": [
    "The best way to asses the performance of a store type is to see what is the sales per customer so that we normalize everything and we get the store that makes its customers spend the most on average.\n"
   ]
  },
  {
   "cell_type": "markdown",
   "metadata": {
    "_uuid": "6e1d51c838cf3293600f5a0b13150d149c54ef25"
   },
   "source": [
    "Let's compare first the total sales of each store type, its average sales and then see how it changes when we add the customers to the equation:"
   ]
  },
  {
   "cell_type": "code",
   "execution_count": 28,
   "metadata": {
    "_uuid": "c8a18aef6abc7b1241e1f23faf65f413551502d7"
   },
   "outputs": [],
   "source": [
    "df_train_store['SalesperCustomer']=df_train_store['Sales']/df_train_store['Customers']"
   ]
  },
  {
   "cell_type": "code",
   "execution_count": 29,
   "metadata": {
    "_uuid": "a988b486237249a05b3b01d8eac76eea76e9d551"
   },
   "outputs": [
    {
     "data": {
      "text/html": [
       "<div>\n",
       "<style scoped>\n",
       "    .dataframe tbody tr th:only-of-type {\n",
       "        vertical-align: middle;\n",
       "    }\n",
       "\n",
       "    .dataframe tbody tr th {\n",
       "        vertical-align: top;\n",
       "    }\n",
       "\n",
       "    .dataframe thead th {\n",
       "        text-align: right;\n",
       "    }\n",
       "</style>\n",
       "<table border=\"1\" class=\"dataframe\">\n",
       "  <thead>\n",
       "    <tr style=\"text-align: right;\">\n",
       "      <th></th>\n",
       "      <th>Store</th>\n",
       "      <th>DayOfWeek</th>\n",
       "      <th>Date</th>\n",
       "      <th>Sales</th>\n",
       "      <th>Customers</th>\n",
       "      <th>Open</th>\n",
       "      <th>Promo</th>\n",
       "      <th>StateHoliday</th>\n",
       "      <th>SchoolHoliday</th>\n",
       "      <th>StoreType</th>\n",
       "      <th>Assortment</th>\n",
       "      <th>CompetitionDistance</th>\n",
       "      <th>CompetitionOpenSinceMonth</th>\n",
       "      <th>CompetitionOpenSinceYear</th>\n",
       "      <th>Promo2</th>\n",
       "      <th>Promo2SinceWeek</th>\n",
       "      <th>Promo2SinceYear</th>\n",
       "      <th>PromoInterval</th>\n",
       "      <th>SalesperCustomer</th>\n",
       "    </tr>\n",
       "  </thead>\n",
       "  <tbody>\n",
       "    <tr>\n",
       "      <th>0</th>\n",
       "      <td>1</td>\n",
       "      <td>5</td>\n",
       "      <td>2018-07-31</td>\n",
       "      <td>5263</td>\n",
       "      <td>555</td>\n",
       "      <td>1</td>\n",
       "      <td>1</td>\n",
       "      <td>0</td>\n",
       "      <td>1</td>\n",
       "      <td>c</td>\n",
       "      <td>a</td>\n",
       "      <td>1270.0</td>\n",
       "      <td>9.0</td>\n",
       "      <td>2008.0</td>\n",
       "      <td>0</td>\n",
       "      <td>0.0</td>\n",
       "      <td>0.0</td>\n",
       "      <td>0</td>\n",
       "      <td>9.482883</td>\n",
       "    </tr>\n",
       "    <tr>\n",
       "      <th>1</th>\n",
       "      <td>2</td>\n",
       "      <td>5</td>\n",
       "      <td>2018-07-31</td>\n",
       "      <td>6064</td>\n",
       "      <td>625</td>\n",
       "      <td>1</td>\n",
       "      <td>1</td>\n",
       "      <td>0</td>\n",
       "      <td>1</td>\n",
       "      <td>a</td>\n",
       "      <td>a</td>\n",
       "      <td>570.0</td>\n",
       "      <td>11.0</td>\n",
       "      <td>2007.0</td>\n",
       "      <td>1</td>\n",
       "      <td>13.0</td>\n",
       "      <td>2010.0</td>\n",
       "      <td>Jan,Apr,Jul,Oct</td>\n",
       "      <td>9.702400</td>\n",
       "    </tr>\n",
       "    <tr>\n",
       "      <th>2</th>\n",
       "      <td>3</td>\n",
       "      <td>5</td>\n",
       "      <td>2018-07-31</td>\n",
       "      <td>8314</td>\n",
       "      <td>821</td>\n",
       "      <td>1</td>\n",
       "      <td>1</td>\n",
       "      <td>0</td>\n",
       "      <td>1</td>\n",
       "      <td>a</td>\n",
       "      <td>a</td>\n",
       "      <td>14130.0</td>\n",
       "      <td>12.0</td>\n",
       "      <td>2006.0</td>\n",
       "      <td>1</td>\n",
       "      <td>14.0</td>\n",
       "      <td>2011.0</td>\n",
       "      <td>Jan,Apr,Jul,Oct</td>\n",
       "      <td>10.126675</td>\n",
       "    </tr>\n",
       "    <tr>\n",
       "      <th>3</th>\n",
       "      <td>4</td>\n",
       "      <td>5</td>\n",
       "      <td>2018-07-31</td>\n",
       "      <td>13995</td>\n",
       "      <td>1498</td>\n",
       "      <td>1</td>\n",
       "      <td>1</td>\n",
       "      <td>0</td>\n",
       "      <td>1</td>\n",
       "      <td>c</td>\n",
       "      <td>c</td>\n",
       "      <td>620.0</td>\n",
       "      <td>9.0</td>\n",
       "      <td>2009.0</td>\n",
       "      <td>0</td>\n",
       "      <td>0.0</td>\n",
       "      <td>0.0</td>\n",
       "      <td>0</td>\n",
       "      <td>9.342457</td>\n",
       "    </tr>\n",
       "    <tr>\n",
       "      <th>4</th>\n",
       "      <td>5</td>\n",
       "      <td>5</td>\n",
       "      <td>2018-07-31</td>\n",
       "      <td>4822</td>\n",
       "      <td>559</td>\n",
       "      <td>1</td>\n",
       "      <td>1</td>\n",
       "      <td>0</td>\n",
       "      <td>1</td>\n",
       "      <td>a</td>\n",
       "      <td>a</td>\n",
       "      <td>29910.0</td>\n",
       "      <td>4.0</td>\n",
       "      <td>2015.0</td>\n",
       "      <td>0</td>\n",
       "      <td>0.0</td>\n",
       "      <td>0.0</td>\n",
       "      <td>0</td>\n",
       "      <td>8.626118</td>\n",
       "    </tr>\n",
       "  </tbody>\n",
       "</table>\n",
       "</div>"
      ],
      "text/plain": [
       "   Store  DayOfWeek       Date  Sales  Customers  Open  Promo StateHoliday  \\\n",
       "0      1          5 2018-07-31   5263        555     1      1            0   \n",
       "1      2          5 2018-07-31   6064        625     1      1            0   \n",
       "2      3          5 2018-07-31   8314        821     1      1            0   \n",
       "3      4          5 2018-07-31  13995       1498     1      1            0   \n",
       "4      5          5 2018-07-31   4822        559     1      1            0   \n",
       "\n",
       "   SchoolHoliday StoreType Assortment  CompetitionDistance  \\\n",
       "0              1         c          a               1270.0   \n",
       "1              1         a          a                570.0   \n",
       "2              1         a          a              14130.0   \n",
       "3              1         c          c                620.0   \n",
       "4              1         a          a              29910.0   \n",
       "\n",
       "   CompetitionOpenSinceMonth  CompetitionOpenSinceYear  Promo2  \\\n",
       "0                        9.0                    2008.0       0   \n",
       "1                       11.0                    2007.0       1   \n",
       "2                       12.0                    2006.0       1   \n",
       "3                        9.0                    2009.0       0   \n",
       "4                        4.0                    2015.0       0   \n",
       "\n",
       "   Promo2SinceWeek  Promo2SinceYear    PromoInterval  SalesperCustomer  \n",
       "0              0.0              0.0                0          9.482883  \n",
       "1             13.0           2010.0  Jan,Apr,Jul,Oct          9.702400  \n",
       "2             14.0           2011.0  Jan,Apr,Jul,Oct         10.126675  \n",
       "3              0.0              0.0                0          9.342457  \n",
       "4              0.0              0.0                0          8.626118  "
      ]
     },
     "execution_count": 29,
     "metadata": {},
     "output_type": "execute_result"
    }
   ],
   "source": [
    "df_train_store.head()"
   ]
  },
  {
   "cell_type": "code",
   "execution_count": 30,
   "metadata": {
    "_uuid": "d91dced7b3b6d9286e3437192bc3e637b90401bc"
   },
   "outputs": [
    {
     "data": {
      "image/png": "[encoded data removed]",
      "text/plain": [
       "<Figure size 1224x720 with 6 Axes>"
      ]
     },
     "metadata": {
      "needs_background": "light"
     },
     "output_type": "display_data"
    }
   ],
   "source": [
    "fig, axes = plt.subplots(2, 3,figsize=(17,10) )\n",
    "palette = itertools.cycle(sns.color_palette(n_colors=4))\n",
    "plt.subplots_adjust(hspace = 0.28)\n",
    "#axes[1].df_train_store.groupby(by=\"StoreType\").count().Store.plot(kind='bar')\n",
    "axes[0,0].bar(df_store.groupby(by=\"StoreType\").count().Store.index,df_store.groupby(by=\"StoreType\").count().Store,color=[next(palette),next(palette),next(palette),next(palette)])\n",
    "axes[0,0].set_title(\"Number of Stores per Store Type \\n Fig 1.1\")\n",
    "axes[0,1].bar(df_train_store.groupby(by=\"StoreType\").sum().Sales.index,df_train_store.groupby(by=\"StoreType\").sum().Sales/1e9,color=[next(palette),next(palette),next(palette),next(palette)])\n",
    "axes[0,1].set_title(\"Total Sales per Store Type (in Billions) \\n Fig 1.2\")\n",
    "axes[0,2].bar(df_train_store.groupby(by=\"StoreType\").sum().Customers.index,df_train_store.groupby(by=\"StoreType\").sum().Customers/1e6,color=[next(palette),next(palette),next(palette),next(palette)])\n",
    "axes[0,2].set_title(\"Total Number of Customers per Store Type (in Millions) \\n Fig 1.3\")\n",
    "axes[1,0].bar(df_train_store.groupby(by=\"StoreType\").sum().Customers.index,df_train_store.groupby(by=\"StoreType\").Sales.mean(),color=[next(palette),next(palette),next(palette),next(palette)])\n",
    "axes[1,0].set_title(\"Average Sales per Store Type \\n Fig 1.4\")\n",
    "axes[1,1].bar(df_train_store.groupby(by=\"StoreType\").sum().Customers.index,df_train_store.groupby(by=\"StoreType\").Customers.mean(),color=[next(palette),next(palette),next(palette),next(palette)])\n",
    "axes[1,1].set_title(\"Average Number of Customers per Store Type \\n Fig 1.5\")\n",
    "axes[1,2].bar(df_train_store.groupby(by=\"StoreType\").sum().Sales.index,df_train_store.groupby(by=\"StoreType\").SalesperCustomer.mean(),color=[next(palette),next(palette),next(palette),next(palette)])\n",
    "axes[1,2].set_title(\"Average Spending per Customer in each Store Type \\n Fig 1.6\")\n",
    "plt.show()"
   ]
  },
  {
   "cell_type": "markdown",
   "metadata": {
    "_uuid": "75dbd24b0f9fa4d24f0f34c449576e4488721281"
   },
   "source": [
    "**Findings:**\n",
    "- From this training set we can see that Storetype A has the highest number of branches,sales and customers from the 4 different storetypes. But this doesn't mean it's the best performing Storetype.\n",
    "\n",
    "- When looking at the average sales and number of customers, we see that actually it is Storetype B who was the highest average Sales and highest average Number of Customers. One assumption could be that if B has only 17 stores but such a high amount of average sales and customers that it is likely hyper Rossman branches whereas A would be smaller in size but much more present.\n",
    "\n",
    "- Surprisingly it is StoreType D who has the highest average spending per Customer, this is probably explained by an average competition distance higher than ther rest which means each customer will buy more since he knows there isn't a lot of similair shops around.\n",
    "\n",
    "- What would help us understand better what's happening is to look for other variables explaining this behaviour like Assortments, Comeptition and Promotions."
   ]
  },
  {
   "cell_type": "markdown",
   "metadata": {
    "_uuid": "9ed4e02cb82b08de3f69408339cddf29bf610c94"
   },
   "source": [
    "<h3>Assortments:</h3>"
   ]
  },
  {
   "cell_type": "markdown",
   "metadata": {
    "_uuid": "b207e948501119e404675888c2c54108068b952f"
   },
   "source": [
    "As we cited in the description, assortments have three types and each store has a defined type and assortment type: \n",
    "- `a` means basic things\n",
    "- `b` means extra things\n",
    "- `c` means extended things so the highest variety of products.\n",
    "\n",
    "What could be interesting is to see the relationship between a store type and its respective assortment type."
   ]
  },
  {
   "cell_type": "code",
   "execution_count": 31,
   "metadata": {
    "_uuid": "9fbee94c5e50a167ed4eba41df90f7be284c0c65"
   },
   "outputs": [
    {
     "data": {
      "text/plain": [
       "StoreType  Assortment\n",
       "a          a             381\n",
       "           c             221\n",
       "b          a               7\n",
       "           b               9\n",
       "           c               1\n",
       "c          a              77\n",
       "           c              71\n",
       "d          a             128\n",
       "           c             220\n",
       "Name: Assortment, dtype: int64"
      ]
     },
     "execution_count": 31,
     "metadata": {},
     "output_type": "execute_result"
    },
    {
     "data": {
      "image/png": "[encoded data removed]",
      "text/plain": [
       "<Figure size 432x288 with 1 Axes>"
      ]
     },
     "metadata": {
      "needs_background": "light"
     },
     "output_type": "display_data"
    }
   ],
   "source": [
    "StoretypeXAssortment = sns.countplot(x=\"StoreType\",hue=\"Assortment\",order=[\"a\",\"b\",\"c\",\"d\"], data=df_store,palette=sns.color_palette(\"Set2\", n_colors=3)).set_title(\"Number of Different Assortments per Store Type\")\n",
    "df_store.groupby(by=[\"StoreType\",\"Assortment\"]).Assortment.count()\n",
    "\n"
   ]
  },
  {
   "cell_type": "markdown",
   "metadata": {
    "_uuid": "d91016d2808f91017d2fe08e905b3426cda6a817"
   },
   "source": [
    "**Findings:**\n",
    "- We can clearly see here that most of the stores have either `a` assortment type or `c` assortment type.\n",
    "- Interestingly enough StoreType d which has the highest Sales per customer average actually has mostly `c` assortment type, this is most probably the reason for having this high average in Sales per customer.Having variery in stores always increases the customers spending pattern.\n"
   ]
  },
  {
   "cell_type": "markdown",
   "metadata": {
    "_uuid": "6d01a6d103df2fa6f8b7cf7e1d47553561d1b3c7"
   },
   "source": [
    "**Promotion:**"
   ]
  },
  {
   "cell_type": "markdown",
   "metadata": {
    "_uuid": "3a556483f2e1b29f95852a83502e45940b6e34bd"
   },
   "source": [
    "Let's see how Promotion affect the overall sales of Rossman store by looking at when there is and when there isn't promotion over those 3 years. This allow us first to see the impact of promotion and as well to see the evolution of sales over specific years (so trends in a given year) and the gradual increase in sales from 2016 to 2018:"
   ]
  },
  {
   "cell_type": "code",
   "execution_count": 32,
   "metadata": {
    "_uuid": "e4b9dab77bc6693c7c97d70eb6bf367291d67c60"
   },
   "outputs": [],
   "source": [
    "df_train_store['Month']=df_train_store.Date.dt.month\n",
    "df_train_store['Year']=df_train_store.Date.dt.year"
   ]
  },
  {
   "cell_type": "code",
   "execution_count": 33,
   "metadata": {
    "_uuid": "91c1f55ba9fcca06301b4ce1363d25206524b5a5"
   },
   "outputs": [
    {
     "name": "stderr",
     "output_type": "stream",
     "text": [
      "C:\\Users\\Admin\\Anaconda3\\lib\\site-packages\\seaborn\\categorical.py:3666: UserWarning: The `factorplot` function has been renamed to `catplot`. The original name will be removed in a future release. Please update your code. Note that the default `kind` in `factorplot` (`'point'`) has changed `'strip'` in `catplot`.\n",
      "  warnings.warn(msg)\n"
     ]
    },
    {
     "data": {
      "text/plain": [
       "<seaborn.axisgrid.FacetGrid at 0x69a7f28>"
      ]
     },
     "execution_count": 33,
     "metadata": {},
     "output_type": "execute_result"
    },
    {
     "data": {
      "image/png": "[encoded data removed]",
      "text/plain": [
       "<Figure size 766.125x1080 with 6 Axes>"
      ]
     },
     "metadata": {
      "needs_background": "light"
     },
     "output_type": "display_data"
    }
   ],
   "source": [
    "\n",
    "sns.factorplot(data = df_train_store, x =\"Month\", y = \"Sales\", \n",
    "               col = 'Promo', # per store type in cols\n",
    "               hue = 'Promo2',\n",
    "               row = \"Year\"\n",
    "              ,sharex=False)\n"
   ]
  },
  {
   "cell_type": "code",
   "execution_count": 34,
   "metadata": {
    "_uuid": "c0b32781541b7dd7d7a948995832d5a76a6ca6e6",
    "scrolled": true
   },
   "outputs": [
    {
     "name": "stderr",
     "output_type": "stream",
     "text": [
      "C:\\Users\\Admin\\Anaconda3\\lib\\site-packages\\seaborn\\categorical.py:3666: UserWarning: The `factorplot` function has been renamed to `catplot`. The original name will be removed in a future release. Please update your code. Note that the default `kind` in `factorplot` (`'point'`) has changed `'strip'` in `catplot`.\n",
      "  warnings.warn(msg)\n"
     ]
    },
    {
     "data": {
      "text/plain": [
       "<seaborn.axisgrid.FacetGrid at 0xd6e54a8>"
      ]
     },
     "execution_count": 34,
     "metadata": {},
     "output_type": "execute_result"
    },
    {
     "data": {
      "image/png": "[encoded data removed]",
      "text/plain": [
       "<Figure size 766.125x1080 with 6 Axes>"
      ]
     },
     "metadata": {
      "needs_background": "light"
     },
     "output_type": "display_data"
    }
   ],
   "source": [
    "sns.factorplot(data = df_train_store, x =\"Month\", y = \"SalesperCustomer\", \n",
    "               col = 'Promo', # per store type in cols\n",
    "               hue = 'Promo2',\n",
    "               row = \"Year\"\n",
    "              ,sharex=False)"
   ]
  },
  {
   "cell_type": "markdown",
   "metadata": {
    "_uuid": "b63c50770e7c4c07ebc39567feb869864bcad338"
   },
   "source": [
    "**Findings:**\n",
    "- We see the dramatic change when we compare having promotion `Promo`=1 to not having promotion `Promo`=0 and can conclude that a store that have promotion on a given day changes its amount of sales considerably.\n",
    "-  When checking the Sales per Customer over promotion we understand that initially those stores suffer from low sales and those continuous promotion shows a tremending increase in the buying power of customers.\n",
    "- If we look over the years,there is a slight increase Year over Year but we don't see any major change from 2016 to 2018 and we actually see a very similair pattern in the months over the years with major spikes first around Easter period in March and April then in Summer in May,June and July and then finally around the Christmas period in November and December."
   ]
  },
  {
   "cell_type": "code",
   "execution_count": 36,
   "metadata": {
    "_uuid": "1a7ca794a18f0696c56de86d195b925125ff07f9"
   },
   "outputs": [
    {
     "name": "stdout",
     "output_type": "stream",
     "text": [
      "Number of Stores opened on Sundays:33\n"
     ]
    }
   ],
   "source": [
    "#33 Stores are opened on Sundays\n",
    "print (\"Number of Stores opened on Sundays:{}\" .format(df_train_store[(df_train_store.Open == 1) & (df_train_store.DayOfWeek == 7)]['Store'].unique().shape[0]))"
   ]
  },
  {
   "cell_type": "markdown",
   "metadata": {
    "_uuid": "ea3dea13b41e6284fdb6ea54d1793d9dddb2d889"
   },
   "source": [
    "**Competition Distance:**"
   ]
  },
  {
   "cell_type": "code",
   "execution_count": 37,
   "metadata": {
    "_uuid": "148d69265b5f2d5202b1b88d8c1b046f79a16669"
   },
   "outputs": [],
   "source": [
    "df_train_store['CompetitionDist_Cat']=pd.cut(df_train_store['CompetitionDistance'], 5)"
   ]
  },
  {
   "cell_type": "code",
   "execution_count": 38,
   "metadata": {
    "_uuid": "34f6e4853205360bc3b0ac8faf2ed0cff7ec1efa"
   },
   "outputs": [
    {
     "data": {
      "text/html": [
       "<div>\n",
       "<style scoped>\n",
       "    .dataframe tbody tr th:only-of-type {\n",
       "        vertical-align: middle;\n",
       "    }\n",
       "\n",
       "    .dataframe tbody tr th {\n",
       "        vertical-align: top;\n",
       "    }\n",
       "\n",
       "    .dataframe thead th {\n",
       "        text-align: right;\n",
       "    }\n",
       "</style>\n",
       "<table border=\"1\" class=\"dataframe\">\n",
       "  <thead>\n",
       "    <tr style=\"text-align: right;\">\n",
       "      <th></th>\n",
       "      <th>Store</th>\n",
       "      <th>DayOfWeek</th>\n",
       "      <th>Date</th>\n",
       "      <th>Sales</th>\n",
       "      <th>Customers</th>\n",
       "      <th>Open</th>\n",
       "      <th>Promo</th>\n",
       "      <th>StateHoliday</th>\n",
       "      <th>SchoolHoliday</th>\n",
       "      <th>StoreType</th>\n",
       "      <th>...</th>\n",
       "      <th>CompetitionOpenSinceMonth</th>\n",
       "      <th>CompetitionOpenSinceYear</th>\n",
       "      <th>Promo2</th>\n",
       "      <th>Promo2SinceWeek</th>\n",
       "      <th>Promo2SinceYear</th>\n",
       "      <th>PromoInterval</th>\n",
       "      <th>SalesperCustomer</th>\n",
       "      <th>Month</th>\n",
       "      <th>Year</th>\n",
       "      <th>CompetitionDist_Cat</th>\n",
       "    </tr>\n",
       "  </thead>\n",
       "  <tbody>\n",
       "    <tr>\n",
       "      <th>0</th>\n",
       "      <td>1</td>\n",
       "      <td>5</td>\n",
       "      <td>2018-07-31</td>\n",
       "      <td>5263</td>\n",
       "      <td>555</td>\n",
       "      <td>1</td>\n",
       "      <td>1</td>\n",
       "      <td>0</td>\n",
       "      <td>1</td>\n",
       "      <td>c</td>\n",
       "      <td>...</td>\n",
       "      <td>9.0</td>\n",
       "      <td>2008.0</td>\n",
       "      <td>0</td>\n",
       "      <td>0.0</td>\n",
       "      <td>0.0</td>\n",
       "      <td>0</td>\n",
       "      <td>9.482883</td>\n",
       "      <td>7</td>\n",
       "      <td>2018</td>\n",
       "      <td>(-55.84, 15188.0]</td>\n",
       "    </tr>\n",
       "    <tr>\n",
       "      <th>1</th>\n",
       "      <td>2</td>\n",
       "      <td>5</td>\n",
       "      <td>2018-07-31</td>\n",
       "      <td>6064</td>\n",
       "      <td>625</td>\n",
       "      <td>1</td>\n",
       "      <td>1</td>\n",
       "      <td>0</td>\n",
       "      <td>1</td>\n",
       "      <td>a</td>\n",
       "      <td>...</td>\n",
       "      <td>11.0</td>\n",
       "      <td>2007.0</td>\n",
       "      <td>1</td>\n",
       "      <td>13.0</td>\n",
       "      <td>2010.0</td>\n",
       "      <td>Jan,Apr,Jul,Oct</td>\n",
       "      <td>9.702400</td>\n",
       "      <td>7</td>\n",
       "      <td>2018</td>\n",
       "      <td>(-55.84, 15188.0]</td>\n",
       "    </tr>\n",
       "    <tr>\n",
       "      <th>2</th>\n",
       "      <td>3</td>\n",
       "      <td>5</td>\n",
       "      <td>2018-07-31</td>\n",
       "      <td>8314</td>\n",
       "      <td>821</td>\n",
       "      <td>1</td>\n",
       "      <td>1</td>\n",
       "      <td>0</td>\n",
       "      <td>1</td>\n",
       "      <td>a</td>\n",
       "      <td>...</td>\n",
       "      <td>12.0</td>\n",
       "      <td>2006.0</td>\n",
       "      <td>1</td>\n",
       "      <td>14.0</td>\n",
       "      <td>2011.0</td>\n",
       "      <td>Jan,Apr,Jul,Oct</td>\n",
       "      <td>10.126675</td>\n",
       "      <td>7</td>\n",
       "      <td>2018</td>\n",
       "      <td>(-55.84, 15188.0]</td>\n",
       "    </tr>\n",
       "    <tr>\n",
       "      <th>3</th>\n",
       "      <td>4</td>\n",
       "      <td>5</td>\n",
       "      <td>2018-07-31</td>\n",
       "      <td>13995</td>\n",
       "      <td>1498</td>\n",
       "      <td>1</td>\n",
       "      <td>1</td>\n",
       "      <td>0</td>\n",
       "      <td>1</td>\n",
       "      <td>c</td>\n",
       "      <td>...</td>\n",
       "      <td>9.0</td>\n",
       "      <td>2009.0</td>\n",
       "      <td>0</td>\n",
       "      <td>0.0</td>\n",
       "      <td>0.0</td>\n",
       "      <td>0</td>\n",
       "      <td>9.342457</td>\n",
       "      <td>7</td>\n",
       "      <td>2018</td>\n",
       "      <td>(-55.84, 15188.0]</td>\n",
       "    </tr>\n",
       "    <tr>\n",
       "      <th>4</th>\n",
       "      <td>5</td>\n",
       "      <td>5</td>\n",
       "      <td>2018-07-31</td>\n",
       "      <td>4822</td>\n",
       "      <td>559</td>\n",
       "      <td>1</td>\n",
       "      <td>1</td>\n",
       "      <td>0</td>\n",
       "      <td>1</td>\n",
       "      <td>a</td>\n",
       "      <td>...</td>\n",
       "      <td>4.0</td>\n",
       "      <td>2015.0</td>\n",
       "      <td>0</td>\n",
       "      <td>0.0</td>\n",
       "      <td>0.0</td>\n",
       "      <td>0</td>\n",
       "      <td>8.626118</td>\n",
       "      <td>7</td>\n",
       "      <td>2018</td>\n",
       "      <td>(15188.0, 30356.0]</td>\n",
       "    </tr>\n",
       "  </tbody>\n",
       "</table>\n",
       "<p>5 rows × 22 columns</p>\n",
       "</div>"
      ],
      "text/plain": [
       "   Store  DayOfWeek       Date  Sales  Customers  Open  Promo StateHoliday  \\\n",
       "0      1          5 2018-07-31   5263        555     1      1            0   \n",
       "1      2          5 2018-07-31   6064        625     1      1            0   \n",
       "2      3          5 2018-07-31   8314        821     1      1            0   \n",
       "3      4          5 2018-07-31  13995       1498     1      1            0   \n",
       "4      5          5 2018-07-31   4822        559     1      1            0   \n",
       "\n",
       "   SchoolHoliday StoreType         ...          CompetitionOpenSinceMonth  \\\n",
       "0              1         c         ...                                9.0   \n",
       "1              1         a         ...                               11.0   \n",
       "2              1         a         ...                               12.0   \n",
       "3              1         c         ...                                9.0   \n",
       "4              1         a         ...                                4.0   \n",
       "\n",
       "   CompetitionOpenSinceYear  Promo2  Promo2SinceWeek  Promo2SinceYear  \\\n",
       "0                    2008.0       0              0.0              0.0   \n",
       "1                    2007.0       1             13.0           2010.0   \n",
       "2                    2006.0       1             14.0           2011.0   \n",
       "3                    2009.0       0              0.0              0.0   \n",
       "4                    2015.0       0              0.0              0.0   \n",
       "\n",
       "     PromoInterval  SalesperCustomer Month  Year  CompetitionDist_Cat  \n",
       "0                0          9.482883     7  2018    (-55.84, 15188.0]  \n",
       "1  Jan,Apr,Jul,Oct          9.702400     7  2018    (-55.84, 15188.0]  \n",
       "2  Jan,Apr,Jul,Oct         10.126675     7  2018    (-55.84, 15188.0]  \n",
       "3                0          9.342457     7  2018    (-55.84, 15188.0]  \n",
       "4                0          8.626118     7  2018   (15188.0, 30356.0]  \n",
       "\n",
       "[5 rows x 22 columns]"
      ]
     },
     "execution_count": 38,
     "metadata": {},
     "output_type": "execute_result"
    }
   ],
   "source": [
    "df_train_store.head()"
   ]
  },
  {
   "cell_type": "code",
   "execution_count": 39,
   "metadata": {
    "_uuid": "4c356c11b9f84c809c154435fbb53522a1c5fbd4"
   },
   "outputs": [
    {
     "data": {
      "text/plain": [
       "(CompetitionDist_Cat\n",
       " (-55.84, 15188.0]     6957.362776\n",
       " (15188.0, 30356.0]    7041.606049\n",
       " (30356.0, 45524.0]    6471.923849\n",
       " (45524.0, 60692.0]    5980.114445\n",
       " (60692.0, 75860.0]    7775.446449\n",
       " Name: Sales, dtype: float64, CompetitionDist_Cat\n",
       " (-55.84, 15188.0]     771.345501\n",
       " (15188.0, 30356.0]    691.574765\n",
       " (30356.0, 45524.0]    680.101854\n",
       " (45524.0, 60692.0]    643.988246\n",
       " (60692.0, 75860.0]    914.574972\n",
       " Name: Customers, dtype: float64)"
      ]
     },
     "execution_count": 39,
     "metadata": {},
     "output_type": "execute_result"
    }
   ],
   "source": [
    "df_train_store.groupby(by=\"CompetitionDist_Cat\").Sales.mean(),df_train_store.groupby(by=\"CompetitionDist_Cat\").Customers.mean()"
   ]
  },
  {
   "cell_type": "code",
   "execution_count": 40,
   "metadata": {
    "_uuid": "11971a02ffa8ddd8036d46416b9c97f1b9e68682",
    "scrolled": true
   },
   "outputs": [],
   "source": [
    "del df_train_store[\"CompetitionDist_Cat\"]"
   ]
  },
  {
   "cell_type": "markdown",
   "metadata": {
    "_uuid": "e1dcec32c341ccaee927149f4a53378fc893233e"
   },
   "source": [
    "Let's get Days from Date and delete Date since we already have its Year and Month:"
   ]
  },
  {
   "cell_type": "code",
   "execution_count": 41,
   "metadata": {
    "_uuid": "38cfb14f90b3b735b72f697fc6c5cf4f0c5660a0"
   },
   "outputs": [],
   "source": [
    "df_train_store['Day']=df_train_store.Date.dt.day"
   ]
  },
  {
   "cell_type": "code",
   "execution_count": 42,
   "metadata": {
    "_uuid": "a37852bd9a976faa96e18edc32a6243acf4b2a38"
   },
   "outputs": [],
   "source": [
    "del df_train_store[\"Date\"]"
   ]
  },
  {
   "cell_type": "markdown",
   "metadata": {
    "_uuid": "5844ebd0a203252e960375dabf04155fb23ffdaf"
   },
   "source": [
    "We still have StoreType,Assortment and StateHoliday as Obejcts we need to convert them to numerical categories:\n",
    "\n",
    "But first we need to make sure we don't have Nan before doing those transformations otherwise Nan will be equal to -1"
   ]
  },
  {
   "cell_type": "code",
   "execution_count": 43,
   "metadata": {
    "_uuid": "8cbc3899f51d794ff588a91fc8556aad15b8d737"
   },
   "outputs": [
    {
     "data": {
      "text/plain": [
       "(False, False, False)"
      ]
     },
     "execution_count": 43,
     "metadata": {},
     "output_type": "execute_result"
    }
   ],
   "source": [
    "df_train_store['StoreType'].isnull().any(),df_train_store['Assortment'].isnull().any(),df_train_store['StateHoliday'].isnull().any()\n",
    "#No Null values we can proceed with the transformation"
   ]
  },
  {
   "cell_type": "code",
   "execution_count": 44,
   "metadata": {
    "_uuid": "156e048cff46dbea9ff7aeb657930356e7f4e912"
   },
   "outputs": [
    {
     "data": {
      "text/plain": [
       "(a    457042\n",
       " d    258768\n",
       " c    112968\n",
       " b     15560\n",
       " Name: StoreType, dtype: int64, a    444875\n",
       " c    391254\n",
       " b      8209\n",
       " Name: Assortment, dtype: int64, 0    843428\n",
       " a       694\n",
       " b       145\n",
       " c        71\n",
       " Name: StateHoliday, dtype: int64)"
      ]
     },
     "execution_count": 44,
     "metadata": {},
     "output_type": "execute_result"
    }
   ],
   "source": [
    "df_train_store[\"StoreType\"].value_counts(),df_train_store[\"Assortment\"].value_counts(),df_train_store[\"StateHoliday\"].value_counts()"
   ]
  },
  {
   "cell_type": "code",
   "execution_count": 45,
   "metadata": {
    "_uuid": "c75ccc4e48297619dad9cf74611d0b941475a4ae"
   },
   "outputs": [],
   "source": [
    "df_train_store['StateHoliday'] = df_train_store['StateHoliday'].astype('category')\n",
    "df_train_store['Assortment'] = df_train_store['Assortment'].astype('category')\n",
    "df_train_store['StoreType'] = df_train_store['StoreType'].astype('category')\n",
    "df_train_store['PromoInterval']= df_train_store['PromoInterval'].astype('category')"
   ]
  },
  {
   "cell_type": "code",
   "execution_count": 46,
   "metadata": {
    "_uuid": "a9023329d8ebf52ecdce786d72a953aeba2cd775"
   },
   "outputs": [],
   "source": [
    "df_train_store['StateHoliday_cat'] = df_train_store['StateHoliday'].cat.codes\n",
    "df_train_store['Assortment_cat'] = df_train_store['Assortment'].cat.codes\n",
    "df_train_store['StoreType_cat'] = df_train_store['StoreType'].cat.codes\n",
    "df_train_store['PromoInterval_cat'] = df_train_store['PromoInterval'].cat.codes\n",
    "\n"
   ]
  },
  {
   "cell_type": "code",
   "execution_count": 47,
   "metadata": {
    "_uuid": "c2e53c2e397436d482b3330f0bda625ed277e2c6"
   },
   "outputs": [],
   "source": [
    "df_train_store['StateHoliday_cat'] = df_train_store['StateHoliday_cat'].astype('float')\n",
    "df_train_store['Assortment_cat'] = df_train_store['Assortment_cat'].astype('float')\n",
    "df_train_store['StoreType_cat'] = df_train_store['StoreType_cat'].astype('float')\n",
    "df_train_store['PromoInterval_cat'] = df_train_store['PromoInterval_cat'].astype('float')"
   ]
  },
  {
   "cell_type": "markdown",
   "metadata": {
    "_uuid": "ed49b503a733fd11f7f34001b877cef00fd7d6bf"
   },
   "source": [
    "Since associating 0,1,2,3 to categorical variables like StoreType,Assortment,StateHoliday affect the bias of the algorithm (0 would account less then 3 when actually StoreType a and StoreType c should be treated equally).\n",
    "I will just convert it to categorical now for the purpose of the correlation analysis and then use the get_dummies function to encode them binarly."
   ]
  },
  {
   "cell_type": "code",
   "execution_count": 48,
   "metadata": {
    "_uuid": "9012b8b5e19bb04f5e593cad4d2a059b90f32e4a"
   },
   "outputs": [],
   "source": [
    "\n",
    "#df_train_store[['StateHoliday', 'StoreType', 'Assortment']] = df_train_store[['StateHoliday', 'StoreType', 'Assortment']].apply(lambda x: x.cat.codes)"
   ]
  },
  {
   "cell_type": "code",
   "execution_count": 49,
   "metadata": {
    "_uuid": "3422909bac1d0999470ce9ffaa806d3b7186ddbf"
   },
   "outputs": [
    {
     "data": {
      "text/plain": [
       "Store                           int64\n",
       "DayOfWeek                       int64\n",
       "Sales                           int64\n",
       "Customers                       int64\n",
       "Open                            int64\n",
       "Promo                           int64\n",
       "StateHoliday                 category\n",
       "SchoolHoliday                   int64\n",
       "StoreType                    category\n",
       "Assortment                   category\n",
       "CompetitionDistance           float64\n",
       "CompetitionOpenSinceMonth     float64\n",
       "CompetitionOpenSinceYear      float64\n",
       "Promo2                          int64\n",
       "Promo2SinceWeek               float64\n",
       "Promo2SinceYear               float64\n",
       "PromoInterval                category\n",
       "SalesperCustomer              float64\n",
       "Month                           int64\n",
       "Year                            int64\n",
       "Day                             int64\n",
       "StateHoliday_cat              float64\n",
       "Assortment_cat                float64\n",
       "StoreType_cat                 float64\n",
       "PromoInterval_cat             float64\n",
       "dtype: object"
      ]
     },
     "execution_count": 49,
     "metadata": {},
     "output_type": "execute_result"
    }
   ],
   "source": [
    "df_train_store.dtypes"
   ]
  },
  {
   "cell_type": "markdown",
   "metadata": {
    "_uuid": "2fe7239e9dcc32950723af982280e35c84fa5109"
   },
   "source": [
    "<h3>Correlation Analysis:</h3>"
   ]
  },
  {
   "cell_type": "code",
   "execution_count": 50,
   "metadata": {
    "_uuid": "bc3186eae86d7d35f9c0d865241575e6f7f7e768"
   },
   "outputs": [],
   "source": [
    "df_correlation=df_train_store[['Store', 'DayOfWeek', 'Sales', 'Customers', 'Open', 'Promo',\n",
    "        'SchoolHoliday',\n",
    "       'CompetitionDistance', 'CompetitionOpenSinceMonth',\n",
    "       'CompetitionOpenSinceYear', 'Promo2', 'Promo2SinceWeek',\n",
    "       'Promo2SinceYear', 'SalesperCustomer', 'Month', 'Year',\n",
    "       'Day', 'StateHoliday_cat', 'Assortment_cat', 'StoreType_cat',\n",
    "       'PromoInterval_cat']]"
   ]
  },
  {
   "cell_type": "code",
   "execution_count": 115,
   "metadata": {
    "_uuid": "cbd36d9532a45edced8ceaabc24a13950d38b413"
   },
   "outputs": [],
   "source": [
    "df_correlation=df_correlation.drop('Open', axis = 1)"
   ]
  },
  {
   "cell_type": "code",
   "execution_count": 116,
   "metadata": {
    "_uuid": "124b4cbd7b91f3b0049988c415f2880a3ad94bcd"
   },
   "outputs": [
    {
     "data": {
      "text/plain": [
       "<matplotlib.axes._subplots.AxesSubplot at 0xddf14a8>"
      ]
     },
     "execution_count": 116,
     "metadata": {},
     "output_type": "execute_result"
    },
    {
     "data": {
      "image/png": "[encoded data removed]",
      "text/plain": [
       "<Figure size 1080x720 with 2 Axes>"
      ]
     },
     "metadata": {
      "needs_background": "light"
     },
     "output_type": "display_data"
    }
   ],
   "source": [
    "upper_triangle = np.zeros_like(df_correlation.corr(), dtype = np.bool)\n",
    "upper_triangle[np.triu_indices_from(upper_triangle)] = True #make sure we don't show half of the other triangle\n",
    "f, ax = plt.subplots(figsize = (15, 10))\n",
    "sns.heatmap(df_correlation.corr(),ax=ax,mask=upper_triangle,annot=True, fmt='.2f',linewidths=0.5,cmap=sns.diverging_palette(10, 133, as_cmap=True))"
   ]
  },
  {
   "cell_type": "markdown",
   "metadata": {
    "_uuid": "9b0ffca209512657f1e32f70268aa31bf20be52f"
   },
   "source": [
    "**Interpretation:**\n",
    "- We can first see the 0.82 between Customers and sales which suggests that they are positively correlated like we stated above in the analysis.\n",
    "- It's interesting to see that Sales per Customer and Promo (0.28) actually correlate positively, since running a promotion increases that number .\n",
    "- Sales per Customer also correlates with Competition Distance(0.21), in a positive manner, like i said up the higher the competitionn distance the more sales per customer we do, which makes sense , the further our competition, the more monopolization Rossman can achieve in the region.\n",
    "- Additionally, the effect of promo2 to Sales per Customer like we said above as well(0.22), it  did provoke a change in the buying pattern and increased it when continuous promotion were applied.\n",
    "- Finally, we can see that StoreType does play a major role with Sales per Customer (0.44), this is probably due to my encoding of the store type variable which suggests that the high categories like d which is equal 4 has higher weight, but if not then it makes sense that the last categories like d does explain the increase in Sales per Customer like fig 1.6 shows."
   ]
  },
  {
   "cell_type": "markdown",
   "metadata": {
    "_uuid": "fa4cc27035c0b3933b61323a7d725ebc1d785876"
   },
   "source": [
    "<h2>Training with RandomForest Regressor:</h2>"
   ]
  },
  {
   "cell_type": "markdown",
   "metadata": {
    "_uuid": "ad9a612d1e74a0cc3ce6270237dfd46738d1b14a"
   },
   "source": [
    "**Further Feature Engineering before Training:**"
   ]
  },
  {
   "cell_type": "code",
   "execution_count": 51,
   "metadata": {
    "_uuid": "7d80d566520e032defe60174c5e3066bf1640790"
   },
   "outputs": [
    {
     "data": {
      "text/plain": [
       "Index(['Store', 'DayOfWeek', 'Sales', 'Customers', 'Open', 'Promo',\n",
       "       'StateHoliday', 'SchoolHoliday', 'StoreType', 'Assortment',\n",
       "       'CompetitionDistance', 'CompetitionOpenSinceMonth',\n",
       "       'CompetitionOpenSinceYear', 'Promo2', 'Promo2SinceWeek',\n",
       "       'Promo2SinceYear', 'PromoInterval', 'SalesperCustomer', 'Month', 'Year',\n",
       "       'Day', 'StateHoliday_cat', 'Assortment_cat', 'StoreType_cat',\n",
       "       'PromoInterval_cat'],\n",
       "      dtype='object')"
      ]
     },
     "execution_count": 51,
     "metadata": {},
     "output_type": "execute_result"
    }
   ],
   "source": [
    "df_train_store.columns"
   ]
  },
  {
   "cell_type": "code",
   "execution_count": 52,
   "metadata": {
    "_uuid": "8d791008f1b79ece73e8d54f5d687707faa88f12"
   },
   "outputs": [],
   "source": [
    "df_train_store['CompetitionOpenSince'] = np.where((df_train_store['CompetitionOpenSinceMonth']==0) & (df_train_store['CompetitionOpenSinceYear']==0) , 0,(df_train_store.Month - df_train_store.CompetitionOpenSinceMonth) + \n",
    "                                       (12 * (df_train_store.Year - df_train_store.CompetitionOpenSinceYear)) )"
   ]
  },
  {
   "cell_type": "code",
   "execution_count": 53,
   "metadata": {
    "_uuid": "8bd711c154e2ebf7c4d0864e5870f576d5e7f308"
   },
   "outputs": [],
   "source": [
    "#now that CompetitionOpenSince is created \n",
    "#we can get rid of `CompetitionOpenSinceYear` and `CompeitionOpenSinceMonth`\n",
    "del df_train_store['CompetitionOpenSinceYear']\n",
    "del df_train_store['CompetitionOpenSinceMonth']\n"
   ]
  },
  {
   "cell_type": "code",
   "execution_count": 54,
   "metadata": {
    "_uuid": "00a9526a454be95cbd35721b8431bab1c1d3639b"
   },
   "outputs": [],
   "source": [
    "df_train_store[\"is_holiday_state\"] = df_train_store['StateHoliday'].map({\"0\": 0, \"a\": 1, \"b\": 1, \"c\": 1})"
   ]
  },
  {
   "cell_type": "code",
   "execution_count": 55,
   "metadata": {
    "_uuid": "1092155c7941db61e9fe8c404ce3d031f6a69dd3"
   },
   "outputs": [],
   "source": [
    "del df_train_store['StateHoliday_cat']"
   ]
  },
  {
   "cell_type": "code",
   "execution_count": 56,
   "metadata": {
    "_uuid": "686c1350281bd2893756007555bee38de3242c88"
   },
   "outputs": [],
   "source": [
    "df_train_store=pd.get_dummies(df_train_store, columns=[\"Assortment\", \"StoreType\",\"PromoInterval\"], prefix=[\"is_Assortment\", \"is_StoreType\",\"is_PromoInteval\"])"
   ]
  },
  {
   "cell_type": "code",
   "execution_count": 57,
   "metadata": {
    "_uuid": "b88947ff23c72e7a4672e8e12f2d463cc6fb2124",
    "scrolled": true
   },
   "outputs": [],
   "source": [
    "del df_train_store['Assortment_cat']\n",
    "del df_train_store['StoreType_cat']\n"
   ]
  },
  {
   "cell_type": "code",
   "execution_count": 58,
   "metadata": {
    "_uuid": "ef185486a4da740cbe767c9709c67275129a0fa7"
   },
   "outputs": [],
   "source": [
    "del df_train_store['PromoInterval_cat']"
   ]
  },
  {
   "cell_type": "code",
   "execution_count": 59,
   "metadata": {
    "_uuid": "5b0e5442dd7d748634cfe3261c7a60bcb4aa9363"
   },
   "outputs": [
    {
     "data": {
      "text/plain": [
       "Index(['Store', 'DayOfWeek', 'Sales', 'Customers', 'Open', 'Promo',\n",
       "       'StateHoliday', 'SchoolHoliday', 'CompetitionDistance', 'Promo2',\n",
       "       'Promo2SinceWeek', 'Promo2SinceYear', 'SalesperCustomer', 'Month',\n",
       "       'Year', 'Day', 'CompetitionOpenSince', 'is_holiday_state',\n",
       "       'is_Assortment_a', 'is_Assortment_b', 'is_Assortment_c',\n",
       "       'is_StoreType_a', 'is_StoreType_b', 'is_StoreType_c', 'is_StoreType_d',\n",
       "       'is_PromoInteval_0', 'is_PromoInteval_Feb,May,Aug,Nov',\n",
       "       'is_PromoInteval_Jan,Apr,Jul,Oct', 'is_PromoInteval_Mar,Jun,Sept,Dec'],\n",
       "      dtype='object')"
      ]
     },
     "execution_count": 59,
     "metadata": {},
     "output_type": "execute_result"
    }
   ],
   "source": [
    "df_train_store.columns"
   ]
  },
  {
   "cell_type": "markdown",
   "metadata": {
    "_uuid": "4671b2910a09bf92e8a9a995a1d7077de7768236"
   },
   "source": [
    "<h3>Test Set Adaptation:</h3>"
   ]
  },
  {
   "cell_type": "code",
   "execution_count": 60,
   "metadata": {
    "_uuid": "d6f0e44720942f75a9cc5da61e9de5c7867b19a4"
   },
   "outputs": [
    {
     "name": "stdout",
     "output_type": "stream",
     "text": [
      "The Test dataset has 41088 Rows and 8 Variables\n"
     ]
    }
   ],
   "source": [
    "df_test = pd.read_csv(\"test.csv\",sep=',', parse_dates=['Date'],\n",
    "                       low_memory = False)\n",
    "print (\"The Test dataset has {} Rows and {} Variables\".format(str(df_test.shape[0]),str(df_test.shape[1])))"
   ]
  },
  {
   "cell_type": "code",
   "execution_count": 61,
   "metadata": {
    "_uuid": "ca67c54a369d77a492dbb71f134cccf5ed5e9c24"
   },
   "outputs": [
    {
     "name": "stdout",
     "output_type": "stream",
     "text": [
      "The Test_Store dataset has 41088 Rows and 17 Variables\n"
     ]
    }
   ],
   "source": [
    "df_test.fillna(1, inplace = True) #11rows with Nans decided to leave them open since its one store 622 which is \n",
    "#usually open\n",
    "#Left-join the train to the store dataset since .Why?\n",
    "#Because you want to make sure you have all events even if some of them don't have their store information ( which shouldn't happen)\n",
    "df_test_store = pd.merge(df_test, df_store, how = 'left', on = 'Store')\n",
    "print (\"The Test_Store dataset has {} Rows and {} Variables\".format(str(df_test_store.shape[0]),str(df_test_store.shape[1]))) \n",
    "df_test_store['Month']=df_test_store.Date.dt.month\n",
    "df_test_store['Year']=df_test_store.Date.dt.year\n",
    "df_test_store['Day']=df_test_store.Date.dt.day\n",
    "\n",
    "df_test_store['StateHoliday'] = df_test_store['StateHoliday'].astype('category')\n",
    "df_test_store['Assortment'] = df_test_store['Assortment'].astype('category')\n",
    "df_test_store['StoreType'] = df_test_store['StoreType'].astype('category')\n",
    "df_test_store['PromoInterval']= df_test_store['PromoInterval'].astype('category')\n",
    "df_test_store['StateHoliday_cat'] = df_test_store['StateHoliday'].cat.codes\n",
    "df_test_store['Assortment_cat'] = df_test_store['Assortment'].cat.codes\n",
    "df_test_store['StoreType_cat'] = df_test_store['StoreType'].cat.codes\n",
    "df_test_store['PromoInterval_cat'] = df_test_store['PromoInterval'].cat.codes\n",
    "df_test_store['StateHoliday_cat'] = df_test_store['StateHoliday_cat'].astype('float')\n",
    "df_test_store['Assortment_cat'] = df_test_store['Assortment_cat'].astype('float')\n",
    "df_test_store['StoreType_cat'] = df_test_store['StoreType_cat'].astype('float')\n",
    "df_test_store['PromoInterval_cat'] = df_test_store['PromoInterval_cat'].astype('float')\n",
    "df_test_store['CompetitionOpenSince'] = np.where((df_test_store['CompetitionOpenSinceMonth']==0) & (df_test_store['CompetitionOpenSinceYear']==0) , 0,(df_test_store.Month - df_test_store.CompetitionOpenSinceMonth) + \n",
    "                                       (12 * (df_test_store.Year - df_test_store.CompetitionOpenSinceYear)) )\n",
    "\n",
    "\n",
    "\n",
    "df_test_store[\"is_holiday_state\"] = df_test_store['StateHoliday'].map({\"0\": 0, \"a\": 1, \"b\": 1, \"c\": 1})\n",
    "\n",
    "\n",
    "\n",
    "\n",
    "df_test_store=pd.get_dummies(df_test_store, columns=[\"Assortment\", \"StoreType\",\"PromoInterval\"], prefix=[\"is_Assortment\", \"is_StoreType\",\"is_PromoInteval\"])\n"
   ]
  },
  {
   "cell_type": "code",
   "execution_count": 62,
   "metadata": {
    "_uuid": "2ff65a425610a10455fc63e544ef96d259e2f84c"
   },
   "outputs": [],
   "source": [
    "del df_test_store['Date']\n",
    "del df_test_store['CompetitionOpenSinceYear']\n",
    "del df_test_store['CompetitionOpenSinceMonth']\n"
   ]
  },
  {
   "cell_type": "code",
   "execution_count": 63,
   "metadata": {
    "_uuid": "0a24cc21745362a94b4f99ad9b0aeca8a789120a"
   },
   "outputs": [],
   "source": [
    "del df_test_store['StateHoliday_cat']"
   ]
  },
  {
   "cell_type": "code",
   "execution_count": 64,
   "metadata": {
    "_uuid": "6549429113aef40cb19a50980d924d0771e4a171"
   },
   "outputs": [],
   "source": [
    "del df_test_store['Assortment_cat']\n",
    "del df_test_store['StoreType_cat']\n",
    "del df_test_store['PromoInterval_cat']"
   ]
  },
  {
   "cell_type": "code",
   "execution_count": 65,
   "metadata": {
    "_uuid": "8e0742b078c9c8ba1981ce1de3c7d1e62b0388b1"
   },
   "outputs": [],
   "source": [
    "del df_test_store['StateHoliday']"
   ]
  },
  {
   "cell_type": "code",
   "execution_count": 66,
   "metadata": {
    "_uuid": "71146e8d081e20dee7d26e960953d0d9b72e037b"
   },
   "outputs": [],
   "source": [
    "del df_train_store['StateHoliday']"
   ]
  },
  {
   "cell_type": "code",
   "execution_count": 67,
   "metadata": {
    "_uuid": "c77d5c6738179ad1c504856541ea94e64a985e4b"
   },
   "outputs": [],
   "source": [
    "def rmspe(y, yhat):\n",
    "    rmspe = np.sqrt(np.mean( (y - yhat)**2 ))\n",
    "    return rmspe"
   ]
  },
  {
   "cell_type": "code",
   "execution_count": 68,
   "metadata": {
    "_uuid": "f61bba9795f60163f4a66ab13761a2d0245dd9e9"
   },
   "outputs": [],
   "source": [
    "features = df_train_store.drop(['Customers', 'Sales', 'SalesperCustomer'], axis = 1) \n",
    "#a rule of thumb is to transform my target value to log if i see the values are very dispersed which is the case\n",
    "#and then of course revert them with np.exp to their real values\n",
    "targets=np.log(df_train_store.Sales)\n"
   ]
  },
  {
   "cell_type": "code",
   "execution_count": 143,
   "metadata": {
    "_uuid": "ed6583fbb13b369b29216e56ec6ab8a0de55efde"
   },
   "outputs": [
    {
     "name": "stdout",
     "output_type": "stream",
     "text": [
      "Training and testing split was successful.\n"
     ]
    }
   ],
   "source": [
    "X_train, X_train_test, y_train, y_train_test = model_selection.train_test_split(features, targets, test_size=0.20, random_state=15)\n",
    "print (\"Training and testing split was successful.\")\n"
   ]
  },
  {
   "cell_type": "code",
   "execution_count": 144,
   "metadata": {
    "_uuid": "86512ec8c3e662369707c0ea18a11d406063225d"
   },
   "outputs": [
    {
     "data": {
      "text/plain": [
       "RandomForestRegressor(bootstrap=True, criterion='mse', max_depth=5,\n",
       "           max_features='auto', max_leaf_nodes=None,\n",
       "           min_impurity_decrease=0.0, min_impurity_split=None,\n",
       "           min_samples_leaf=1, min_samples_split=2,\n",
       "           min_weight_fraction_leaf=0.0, n_estimators=10, n_jobs=4,\n",
       "           oob_score=False, random_state=31, verbose=0, warm_start=False)"
      ]
     },
     "execution_count": 144,
     "metadata": {},
     "output_type": "execute_result"
    }
   ],
   "source": [
    "rfr = RandomForestRegressor(n_estimators=10, \n",
    "                             criterion='mse', \n",
    "                             max_depth=5, \n",
    "                             min_samples_split=2, \n",
    "                             min_samples_leaf=1, \n",
    "                             min_weight_fraction_leaf=0.0, \n",
    "                             max_features='auto', \n",
    "                             max_leaf_nodes=None, \n",
    "                             min_impurity_decrease=0.0, \n",
    "                             min_impurity_split=None, \n",
    "                             bootstrap=True, \n",
    "                             oob_score=False,\n",
    "                             n_jobs=4,\n",
    "                             random_state=31, \n",
    "                             verbose=0, \n",
    "                             warm_start=False)\n",
    "rfr.fit(X_train, y_train)\n"
   ]
  },
  {
   "cell_type": "code",
   "execution_count": 145,
   "metadata": {
    "_uuid": "0d71c8db27f58b0568a97df0683a19f5682e1e21"
   },
   "outputs": [
    {
     "data": {
      "text/plain": [
       "\"\\nparams = {'max_depth':(4,6,8,10,12,14,16,20),\\n         'n_estimators':(4,8,16,24,48,72,96,128),\\n         'min_samples_split':(2,4,6,8,10)}\\n#scoring_fnc = metrics.make_scorer(rmspe)\\n#the dimensionality is high, the number of combinations we have to search is enormous, using RandomizedSearchCV \\n# is a better option then GridSearchCV\\ngrid = model_selection.RandomizedSearchCV(estimator=rfr,param_distributions=params,cv=10) \\n#choosing 10 K-Folds makes sure i went through all of the data and didn't miss any pattern.(takes time to run but is worth doing it)\\ngrid.fit(X_train, y_train)\\n\""
      ]
     },
     "execution_count": 145,
     "metadata": {},
     "output_type": "execute_result"
    }
   ],
   "source": [
    "\n",
    "'''\n",
    "params = {'max_depth':(4,6,8,10,12,14,16,20),\n",
    "         'n_estimators':(4,8,16,24,48,72,96,128),\n",
    "         'min_samples_split':(2,4,6,8,10)}\n",
    "#scoring_fnc = metrics.make_scorer(rmspe)\n",
    "#the dimensionality is high, the number of combinations we have to search is enormous, using RandomizedSearchCV \n",
    "# is a better option then GridSearchCV\n",
    "grid = model_selection.RandomizedSearchCV(estimator=rfr,param_distributions=params,cv=10) \n",
    "#choosing 10 K-Folds makes sure i went through all of the data and didn't miss any pattern.(takes time to run but is worth doing it)\n",
    "grid.fit(X_train, y_train)\n",
    "'''\n",
    "#I AM NOT GOING TO RUN THIS CHUNK TO BE ABLE TO COMMIT AND RUN MY KERNEL ON KAGGLE"
   ]
  },
  {
   "cell_type": "code",
   "execution_count": 146,
   "metadata": {
    "_uuid": "1e598a73ed68b84eb62ae472b5dd0c7b62522195"
   },
   "outputs": [],
   "source": [
    "#This is the best combination i got from what i propose to try out with a (mse) score of 0.855 which is quite good\n",
    "#grid.best_params_,grid.best_score_\n",
    "#MY BEST PARAMS ARE :n_estimators=128,max_depth=20,min_samples_split=10"
   ]
  },
  {
   "cell_type": "markdown",
   "metadata": {
    "_uuid": "64f52d1103b095a0ca2d1a9e6d99d4284b50ce8f"
   },
   "source": [
    "## Test our RF on the validation set:"
   ]
  },
  {
   "cell_type": "code",
   "execution_count": 147,
   "metadata": {
    "_uuid": "abd32bcaae16d84b3085f02be1f539e7f42b0a5f"
   },
   "outputs": [],
   "source": [
    "#with the optimal parameters i got let's see how it behaves with the validation set\n",
    "rfr_val=RandomForestRegressor(n_estimators=128, \n",
    "                             criterion='mse', \n",
    "                             max_depth=20, \n",
    "                             min_samples_split=10, \n",
    "                             min_samples_leaf=1, \n",
    "                             min_weight_fraction_leaf=0.0, \n",
    "                             max_features='auto', \n",
    "                             max_leaf_nodes=None, \n",
    "                             min_impurity_decrease=0.0, \n",
    "                             min_impurity_split=None, \n",
    "                             bootstrap=True, \n",
    "                             oob_score=False,\n",
    "                             n_jobs=4, #setting n_jobs to 4 makes sure you're using the full potential of the machine you're running the training on\n",
    "                             random_state=35, \n",
    "                             verbose=0, \n",
    "                             warm_start=False)\n",
    "model_RF_test=rfr_val.fit(X_train,y_train)"
   ]
  },
  {
   "cell_type": "code",
   "execution_count": 148,
   "metadata": {
    "_uuid": "04bd85c9b9ace7010770382d28f6a31f1ca457c0"
   },
   "outputs": [],
   "source": [
    "yhat=model_RF_test.predict(X_train_test)"
   ]
  },
  {
   "cell_type": "code",
   "execution_count": 150,
   "metadata": {
    "_uuid": "03134041eab3759aa7ab1a6d1d7c67e4b84ec2aa"
   },
   "outputs": [
    {
     "data": {
      "text/plain": [
       "0.1629166664720833"
      ]
     },
     "execution_count": 150,
     "metadata": {},
     "output_type": "execute_result"
    }
   ],
   "source": [
    "error=rmspe(y_train_test,yhat)\n",
    "error"
   ]
  },
  {
   "cell_type": "markdown",
   "metadata": {
    "_uuid": "9ad8e200a10070ea8d290ece404f50af0b9152a1"
   },
   "source": [
    "**In order to understand better what happened when we ran our randomforest regressor, here is a chart that represents, the importance and role that each variable that i decided to include played in this learning process:**"
   ]
  },
  {
   "cell_type": "code",
   "execution_count": 151,
   "metadata": {
    "_uuid": "6a2be57b59e1fcba050ff8d2d36c5893bd66dcc4"
   },
   "outputs": [
    {
     "data": {
      "image/png": "[encoded data removed]",
      "text/plain": [
       "<Figure size 720x1080 with 1 Axes>"
      ]
     },
     "metadata": {
      "needs_background": "light"
     },
     "output_type": "display_data"
    }
   ],
   "source": [
    "importances = rfr_val.feature_importances_\n",
    "std = np.std([rfr_val.feature_importances_ for tree in rfr_val.estimators_],\n",
    "             axis=0)\n",
    "indices = np.argsort(importances)\n",
    "palette1 = itertools.cycle(sns.color_palette())\n",
    "# Store the feature ranking\n",
    "features_ranked=[]\n",
    "for f in range(X_train.shape[1]):\n",
    "    features_ranked.append(X_train.columns[indices[f]])\n",
    "# Plot the feature importances of the forest\n",
    "\n",
    "plt.figure(figsize=(10,15))\n",
    "plt.title(\"Feature importances\")\n",
    "plt.barh(range(X_train.shape[1]), importances[indices],\n",
    "            color=[next(palette1)], align=\"center\")\n",
    "plt.yticks(range(X_train.shape[1]), features_ranked)\n",
    "plt.ylabel('Features')\n",
    "plt.ylim([-1, X_train.shape[1]])\n",
    "plt.show()\n",
    "\n"
   ]
  },
  {
   "cell_type": "code",
   "execution_count": 152,
   "metadata": {
    "_uuid": "36c040ffe0593aa9d43bddeaf47135072fa65437"
   },
   "outputs": [],
   "source": [
    "df_test_store1=df_test_store.drop(['Id'],axis=1)\n",
    "kaggle_yhat= model_RF_test.predict(df_test_store1)\n",
    "kaggle_preds= pd.DataFrame({'Id': df_test_store['Id'], \n",
    "                          'Sales': np.exp(kaggle_yhat)})\n",
    "kaggle_preds.to_csv(\"submission.csv\", index = False)\n"
   ]
  }
 ],
 "metadata": {
  "kernelspec": {
   "display_name": "Python 3",
   "language": "python",
   "name": "python3"
  },
  "language_info": {
   "codemirror_mode": {
    "name": "ipython",
    "version": 3
   },
   "file_extension": ".py",
   "mimetype": "text/x-python",
   "name": "python",
   "nbconvert_exporter": "python",
   "pygments_lexer": "ipython3",
   "version": "3.7.1"
  }
 },
 "nbformat": 4,
 "nbformat_minor": 1
}
